{
 "cells": [
  {
   "cell_type": "markdown",
   "metadata": {},
   "source": [
    "Release notes\n",
    "=============\n",
    "\n",
    "Version 0.2\n",
    "-----------\n",
    "### New features ###\n",
    "* Added the functions `load` and `save`.\n",
    "* Introduced the `ktk.zip` file format.\n",
    "* Added the `gui` module to show messages, input dialogs and file/folder pickers.\n",
    "* Added the `filter` module with TimeSeries wrappers for scipy's butterworth and savitsky-golay filters.\n",
    "* Added interactive methods to TimeSeries: `TimeSeries.ui_add_event()`, `TimeSeries.ui_get_ts_between_clicks()` and `TimeSeries.ui_sync()` (experimental).\n",
    "* Added `TimeSeries.remove_event()` method.\n",
    "* Added `TimeSeries.resample()` (experimental).\n",
    "\n",
    "### Improvements ###\n",
    "* Updated the documentation system using sphinx and jupyter-lab.\n",
    "* Improved performance of `ktk.TimeSeries.from_dataframe()`\n",
    "* ktk is now typed.\n",
    "\n",
    "### Breaking changes ###\n",
    "* `ktk.TimeSeries.from_dataframe()` is now a class function and not an instance method anymore. Therefore we need to call `ktk.TimeSeries.from_dataframe(dataframe)` instead of `ktk.TimeSeries().from_dataframe(dataframe)`.\n",
    "* Now depends on python 3.8 instead of 3.7.\n",
    "\n",
    "Version 0.1\n",
    "-----------\n",
    "### New features ###\n",
    "* Added the `TimeSeries` class.\n",
    "* Added the `kinematics` module, to read c3d and n3d files.\n",
    "* Added the `Player` class, to view markers in 3d."
   ]
  }
 ],
 "metadata": {
  "kernelspec": {
   "display_name": "Python 3",
   "language": "python",
   "name": "python3"
  },
  "language_info": {
   "codemirror_mode": {
    "name": "ipython",
    "version": 3
   },
   "file_extension": ".py",
   "mimetype": "text/x-python",
   "name": "python",
   "nbconvert_exporter": "python",
   "pygments_lexer": "ipython3",
   "version": "3.8.5"
  }
 },
 "nbformat": 4,
 "nbformat_minor": 4
}
