{
 "cells": [
  {
   "cell_type": "markdown",
   "metadata": {},
   "source": [
    "Installing\n",
    "==========\n",
    "\n",
    "Kinetics Toolkit is distributed via both conda-forge and PyPi. The source code is hosted on [git-hub](https://github.com/felixchenier/kineticstoolkit).\n",
    "\n",
    "Since reading c3d files relies on `ezc3d` which binaries are distributed only via conda-forge, the recommended installation method is therefore using conda-forge.\n",
    "\n",
    "1. Download and install Anaconda or [Miniconda](https://docs.conda.io/en/latest/miniconda.html) with python 3.8 or newer.\n",
    "\n",
    "2. Create a new environment (recommended): open an Anaconda Prompt (on Windows) or a terminal (on macOS and Linux) and type these commands one by one to create a `ktk` virtual environment and install Kinetics Toolkit in this environment.\n",
    "\n",
    "        conda create -n ktk\n",
    "\n",
    "        conda activate ktk\n",
    "        \n",
    "3. Install Kinetics Toolkit\n",
    "\n",
    "    Stable version (recommended):\n",
    "        \n",
    "    a) Install:\n",
    "\n",
    "            conda install -c conda-forge kineticstoolkit ezc3d\n",
    "            \n",
    "    b) To keep up to date:\n",
    "        \n",
    "            conda update -c conda-forge kineticstoolkit\n",
    "        \n",
    "    Development version (for programmers):\n",
    "    \n",
    "    a) Install the dependencies:\n",
    "        \n",
    "            conda install -c conda-forge python=3.8 matplotlib scipy pandas scikit-learn pyqt ezc3d limitedinteraction git pytest mypy coverage jupyterlab spyder sphinx sphinx-material recommonmark sphinx-autodoc-typehints autodocsumm nbsphinx twine\n",
    "            \n",
    "    b) Clone the git repository:\n",
    "        \n",
    "            git clone https://github.com/felixchenier/kineticstoolkit.git ktk_develop\n",
    "            \n",
    "    c) Add ktk_develop to your PYTHON_PATH\n",
    "        \n",
    "    d) To keep up to date:\n",
    "        \n",
    "            cd ktk_develop; git pull origin master\n",
    "   \n",
    "3. Interactive functions can be tricky in Python. Kinetics Toolkit's interactive functions make use of IPython's integration of Matplotlib/Qt5's event loop, which is completely supported in Spyder IDE. Therefore I recommend using [Spyder](https://www.spyder-ide.org) since it is so oriented towards science, but any IDE that uses IPython should also work well. Be sure to [configure Spyder](https://docs.spyder-ide.org/current/faq.html#using-existing-environment) to use the ktk environment you just created.\n",
    "\n",
    "4. Choose the Qt5 backend for IPython.\n",
    "\n",
    "    - If you are using the Spyder IDE, go to the Spyder's preferences, to the **IPython console** item, then to the **Graphics** pane. In the **Graphics backend** box, select **Qt5**. Restart Spyder.\n",
    "    - Otherwise, you can just type `%matplotlib qt5` in IPython or Jupyter.\n",
    "\n",
    "Verify that you are able to import Kinetics Toolkit in the interactive IPython console. This should work without error:\n",
    "\n",
    "    >>> import kineticstoolkit\n",
    "    \n",
    "    or\n",
    "    \n",
    "    >>> import kineticstoolkit.lab as ktk"
   ]
  }
 ],
 "metadata": {
  "kernelspec": {
   "display_name": "Python 3",
   "language": "python",
   "name": "python3"
  },
  "language_info": {
   "codemirror_mode": {
    "name": "ipython",
    "version": 3
   },
   "file_extension": ".py",
   "mimetype": "text/x-python",
   "name": "python",
   "nbconvert_exporter": "python",
   "pygments_lexer": "ipython3",
   "version": "3.8.6"
  }
 },
 "nbformat": 4,
 "nbformat_minor": 4
}