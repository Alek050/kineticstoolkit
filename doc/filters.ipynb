{
 "cells": [
  {
   "cell_type": "markdown",
   "metadata": {},
   "source": [
    "Filters\n",
    "=======\n",
    "\n",
    "The [filters](api/kineticstoolkit.filters.rst) module wraps some filters to use directly with ktk's TimeSeries objects. These filters are convenience wrappers for numpy's and scipy's filters."
   ]
  },
  {
   "cell_type": "code",
   "execution_count": null,
   "metadata": {},
   "outputs": [],
   "source": [
    "import kineticstoolkit.lab as ktk\n",
    "import numpy as np\n",
    "import scipy as sp\n",
    "import matplotlib.pyplot as plt"
   ]
  },
  {
   "cell_type": "markdown",
   "metadata": {},
   "source": [
    "In this tutorial, we will see the effect of filtering on a TimeSeries that includes different forms of signal:"
   ]
  },
  {
   "cell_type": "code",
   "execution_count": null,
   "metadata": {},
   "outputs": [],
   "source": [
    "ts_source = ktk.TimeSeries(time=np.linspace(0, 5, 1000))\n",
    "\n",
    "# Generate some fancy functions\n",
    "ts_source.data['square'] = np.array([int(t) % 2 == 0 for t in ts_source.time]) + 4.5\n",
    "ts_source.data['triangle'] = np.block([\n",
    "    0.01 * (sp.integrate.cumtrapz(ts_source.data['square'] - 5)) + 3, 4.])\n",
    "ts_source.data['sine'] = 0.5 * np.sin(ts_source.time * np.pi) + 2\n",
    "ts_source.data['pulse'] = np.array([float((i + 50) % 100 == 0) for i in range(1000)])\n",
    "\n",
    "ts_source.plot()\n",
    "plt.tight_layout()"
   ]
  },
  {
   "cell_type": "markdown",
   "metadata": {},
   "source": [
    "Let's add some white and quantification noise to these nice functions."
   ]
  },
  {
   "cell_type": "code",
   "execution_count": null,
   "metadata": {},
   "outputs": [],
   "source": [
    "# White noise\n",
    "np.random.seed(0)\n",
    "noise = (np.random.rand(1000) - 0.5) * 1E-1\n",
    "ts = ts_source.copy()\n",
    "ts.data['square'] += noise\n",
    "ts.data['triangle'] += noise\n",
    "ts.data['sine'] += noise\n",
    "ts.data['pulse'] += noise\n",
    "\n",
    "# Quantification noise: resolution of 1E-2\n",
    "for key in ts.data:\n",
    "    ts.data[key] = np.floor(ts.data[key] * 1E2) * 1E-2\n",
    "\n",
    "ts.plot()\n",
    "plt.tight_layout()"
   ]
  },
  {
   "cell_type": "markdown",
   "metadata": {},
   "source": [
    "Filtering a TimeSeries using a Butterworth filter\n",
    "-------------------------------------------------\n",
    "The [ktk.filters.butter()](api/kineticstoolkit.filters.rst#kineticstoolkit.filters.butter) function method applies a butterworth filter on a TimeSeries, using `scipy.signal`'s functions.\n",
    "\n",
    "Here is how to filter using a no-lag Butterworth filter of order 2 at different cut-off frequencies:"
   ]
  },
  {
   "cell_type": "code",
   "execution_count": null,
   "metadata": {},
   "outputs": [],
   "source": [
    "plt.subplot(1, 2, 1)\n",
    "ts.plot()\n",
    "plt.title('Before filtering')\n",
    "\n",
    "plt.subplot(1, 2, 2)\n",
    "temp = ktk.filters.butter(ts, 20)\n",
    "temp.plot()\n",
    "plt.title('Low-pass 2nd order Butterworth at 20 Hz')\n",
    "plt.tight_layout()"
   ]
  },
  {
   "cell_type": "code",
   "execution_count": null,
   "metadata": {},
   "outputs": [],
   "source": [
    "plt.subplot(1, 2, 1)\n",
    "ts.plot()\n",
    "plt.title('Before filtering')\n",
    "\n",
    "plt.subplot(1, 2, 2)\n",
    "temp = ktk.filters.butter(ts, 6)  # 4 Hz\n",
    "temp.plot()\n",
    "plt.title('Low-pass 2nd order Butterworth at 6 Hz')\n",
    "plt.tight_layout()"
   ]
  },
  {
   "cell_type": "markdown",
   "metadata": {},
   "source": [
    "Smoothing a TimeSeries with a moving average\n",
    "--------------------------------------------\n",
    "\n",
    "The [ktk.filters.smooth()](api/kineticstoolkit.filters.rst#kineticstoolkit.filters.smooth) function applies a moving average on TimeSeries data.\n",
    "\n",
    "Here is how to smooth a signal using a moving average filter using different window lengths."
   ]
  },
  {
   "cell_type": "code",
   "execution_count": null,
   "metadata": {},
   "outputs": [],
   "source": [
    "plt.subplot(1, 2, 1)\n",
    "ts.plot()\n",
    "plt.title('Before filtering')\n",
    "\n",
    "plt.subplot(1, 2, 2)\n",
    "temp = ktk.filters.smooth(ts, window_length=5)\n",
    "temp.plot()\n",
    "plt.title('Moving average of length 5')\n",
    "plt.tight_layout()"
   ]
  },
  {
   "cell_type": "code",
   "execution_count": null,
   "metadata": {},
   "outputs": [],
   "source": [
    "plt.subplot(1, 2, 1)\n",
    "ts.plot()\n",
    "plt.title('Before filtering')\n",
    "\n",
    "plt.subplot(1, 2, 2)\n",
    "temp = ktk.filters.smooth(ts, window_length=25)\n",
    "temp.plot()\n",
    "plt.title('Moving average of length 25')\n",
    "plt.tight_layout()"
   ]
  },
  {
   "cell_type": "markdown",
   "metadata": {},
   "source": [
    "Smoothing a TimeSeries using a Savitzky-Golay filter\n",
    "------------------------------------------------------------------\n",
    "The [ktk.filters.savgol()](api/kineticstoolkit.filters.rst#kineticstoolkit.filters.savgol) function applies the `scipy.signal.savgol_filter` filter to a TimeSeries. This is an extension of the moving average using a polynom of higher degrees than 0.\n",
    "\n",
    "Here is how to smooth a signal using a Savitsky-Golay filter of order 2 using different window lengths."
   ]
  },
  {
   "cell_type": "code",
   "execution_count": null,
   "metadata": {},
   "outputs": [],
   "source": [
    "plt.subplot(1, 2, 1)\n",
    "ts.plot()\n",
    "plt.title('Before filtering')\n",
    "\n",
    "plt.subplot(1, 2, 2)\n",
    "temp = ktk.filters.savgol(ts, window_length=5, poly_order=2)\n",
    "temp.plot()\n",
    "plt.title('2nd order smoothing Savitsky Golay of length 5')\n",
    "plt.tight_layout()"
   ]
  },
  {
   "cell_type": "code",
   "execution_count": null,
   "metadata": {},
   "outputs": [],
   "source": [
    "plt.subplot(1, 2, 1)\n",
    "ts.plot()\n",
    "plt.title('Before filtering')\n",
    "\n",
    "plt.subplot(1, 2, 2)\n",
    "temp = ktk.filters.savgol(ts, window_length=25, poly_order=2)\n",
    "temp.plot()\n",
    "plt.title('2nd order smoothing Savitsky Golay of length 25')\n",
    "plt.tight_layout()"
   ]
  },
  {
   "cell_type": "markdown",
   "metadata": {},
   "source": [
    "Removing artefacts using a median filter\n",
    "---------------------------------------\n",
    "\n",
    "The [ktk.filters.median()](api/kineticstoolkit.filters.rst#kineticstoolkit.filters.median) function filters a TimeSeries using a median filter. This type of filter is pretty powerful for removing artefacts that rarely happen twice in a row. Here is how to use this filter with a window length of 3."
   ]
  },
  {
   "cell_type": "code",
   "execution_count": null,
   "metadata": {},
   "outputs": [],
   "source": [
    "plt.subplot(1, 2, 1)\n",
    "ts.plot()\n",
    "plt.title('Before filtering')\n",
    "\n",
    "plt.subplot(1, 2, 2)\n",
    "temp = ktk.filters.median(ts, window_length=3)\n",
    "temp.plot()\n",
    "plt.title('Median filter with a window length of 3')\n",
    "plt.tight_layout()"
   ]
  },
  {
   "cell_type": "markdown",
   "metadata": {},
   "source": [
    "Derivating using a differential filter\n",
    "--------------------------------------\n",
    "\n",
    "The [ktk.filters.deriv()](api/kineticstoolkit.filters.rst#kineticstoolkit.filters.deriv) function derivates a signal in time using the centered difference formula. Since the derivative is calculated between the original data points, the resulting TimeSeries has a modified time vector that is also between the original time points.\n",
    "\n",
    "Here is how to use this function to obtain the first derivative of a signal without preliminary filtering."
   ]
  },
  {
   "cell_type": "code",
   "execution_count": null,
   "metadata": {},
   "outputs": [],
   "source": [
    "plt.subplot(1, 2, 1)\n",
    "temp = ktk.filters.deriv(ts_source)\n",
    "temp.plot()\n",
    "plt.axis([0, 5, -5, 5])\n",
    "plt.title('First derivative of the reference signal')\n",
    "\n",
    "plt.subplot(1, 2, 2)\n",
    "temp = ktk.filters.deriv(ts)\n",
    "temp.plot()\n",
    "plt.axis([0, 5, -5, 5])\n",
    "plt.title('First derivative without filtering')\n",
    "\n",
    "plt.tight_layout()"
   ]
  },
  {
   "cell_type": "markdown",
   "metadata": {},
   "source": [
    "Obviously there is a lot of noise in this signal, which gets it very difficult to derivate.\n",
    "\n",
    "Here is the same after filtering the data using Butterworth filters of different cut-off frequencies prior to derivating."
   ]
  },
  {
   "cell_type": "code",
   "execution_count": null,
   "metadata": {},
   "outputs": [],
   "source": [
    "plt.subplot(1, 2, 1)\n",
    "temp = ktk.filters.deriv(ts_source)\n",
    "temp.plot()\n",
    "plt.axis([0, 5, -5, 5])\n",
    "plt.title('First derivative of the reference signal')\n",
    "\n",
    "plt.subplot(1, 2, 2)\n",
    "temp = ktk.filters.deriv(\n",
    "    ktk.filters.butter(ts, fc=20))\n",
    "temp.plot()\n",
    "plt.axis([0, 5, -5, 5])\n",
    "plt.title('First derivative after filtering at 20 Hz')\n",
    "\n",
    "plt.tight_layout()"
   ]
  },
  {
   "cell_type": "code",
   "execution_count": null,
   "metadata": {},
   "outputs": [],
   "source": [
    "plt.subplot(1, 2, 1)\n",
    "temp = ktk.filters.deriv(ts_source)\n",
    "temp.plot()\n",
    "plt.axis([0, 5, -5, 5])\n",
    "plt.title('First derivative of the reference signal')\n",
    "\n",
    "plt.subplot(1, 2, 2)\n",
    "temp = ktk.filters.deriv(\n",
    "    ktk.filters.butter(ts, fc=6))\n",
    "temp.plot()\n",
    "plt.axis([0, 5, -5, 5])\n",
    "plt.title('First derivative after filtering at 6 Hz')\n",
    "\n",
    "plt.tight_layout()"
   ]
  },
  {
   "cell_type": "markdown",
   "metadata": {},
   "source": [
    "Derivating using a Savitsky-Golay filter\n",
    "----------------------------------------\n",
    "The [ktk.filters.savgol()](api/kineticstoolkit.filters.rst#kineticstoolkit.filters.savgol) can smooth but also derivate with a very good performance. Here is how to derivate a signal using this type of filter."
   ]
  },
  {
   "cell_type": "code",
   "execution_count": null,
   "metadata": {},
   "outputs": [],
   "source": [
    "plt.subplot(1, 2, 1)\n",
    "temp = ktk.filters.deriv(ts_source)\n",
    "temp.plot()\n",
    "plt.axis([0, 5, -5, 5])\n",
    "plt.title('First derivative of the reference signal')\n",
    "\n",
    "plt.subplot(1, 2, 2)\n",
    "temp = ktk.filters.savgol(ts, window_length=25, poly_order=2, deriv=1)\n",
    "temp.plot()\n",
    "plt.axis([0, 5, -5, 5])\n",
    "plt.title('First derivative using a Savitzky-Golay filter of length 25')\n",
    "\n",
    "plt.tight_layout()"
   ]
  },
  {
   "cell_type": "markdown",
   "metadata": {},
   "source": [
    "For more information, please check the [API Reference for the filters module](api/kineticstoolkit.filters.rst)."
   ]
  }
 ],
 "metadata": {
  "kernelspec": {
   "display_name": "Python 3",
   "language": "python",
   "name": "python3"
  },
  "language_info": {
   "codemirror_mode": {
    "name": "ipython",
    "version": 3
   },
   "file_extension": ".py",
   "mimetype": "text/x-python",
   "name": "python",
   "nbconvert_exporter": "python",
   "pygments_lexer": "ipython3",
   "version": "3.8.6"
  }
 },
 "nbformat": 4,
 "nbformat_minor": 4
}
