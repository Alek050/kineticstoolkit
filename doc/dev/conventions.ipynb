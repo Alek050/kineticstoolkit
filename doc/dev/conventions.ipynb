{
 "cells": [
  {
   "cell_type": "markdown",
   "id": "mighty-springfield",
   "metadata": {},
   "source": [
    "Developer manual\n",
    "================\n",
    "\n",
    "This is a draft for an upcoming coding style for Kinetics Toolkit and other projects at the Research Lab on Mobility in Adaptive Sports."
   ]
  },
  {
   "cell_type": "markdown",
   "id": "fewer-david",
   "metadata": {},
   "source": [
    "Coding style\n",
    "------------"
   ]
  },
  {
   "cell_type": "markdown",
   "id": "unusual-newsletter",
   "metadata": {},
   "source": [
    "### Standard Python conventions\n",
    "\n",
    "We try, when possible, to match the guidelines presented in these documents:\n",
    "- [Style Guide for Python Code (PEP8)](https://pep8.org);\n",
    "- [Numpy Docstring](https://numpydoc.readthedocs.io/en/latest/format.html).\n",
    "\n",
    "Those are precious references and all other sections are additions to these references. Integrated desktop environments may help programmers to follow these conventions. For example, in Spyder, one could enable:\n",
    "\n",
    "- `Preferences : Completion in linting : Code style and formatting` to enable PEP8 linting;\n",
    "- `Preferences : Completion in linting : Docstring style` to enable docstring linting. "
   ]
  },
  {
   "cell_type": "markdown",
   "id": "demanding-pacific",
   "metadata": {},
   "source": [
    "### Naming conventions\n",
    "\n",
    "The following conventions are used:\n",
    "\n",
    "- All code, comments and documentation are in **English**.\n",
    "\n",
    "- **Function names** begin by an infinitive verb, are in lowercase, and words are separated by underscores: `close`, `calculate_power`, `detect_cycles`, etc.\n",
    "\n",
    "- **Variable names** are in a passive form, are in lowercase, and words are separated by underscores: `forces`, `detected_markers`, etc.\n",
    "\n",
    "- **Class names** are in a passive form, and are in CamelCase: `TimeSeries`, `Player`, etc.\n",
    "\n",
    "- **Dictionary keys** that are strings are in a passive form, and are in CamelCase: `contents['Forces']`, `kinematics.data['UpperArmR']`, etc.\n",
    "\n"
   ]
  },
  {
   "cell_type": "markdown",
   "id": "blessed-square",
   "metadata": {},
   "source": [
    "### Type hints\n",
    "\n",
    "Kinetics Toolkit is type-hinted, with static type checking performed by `mypy`. It does not use python 3.9 contained types yet, and therefore relies on the standard `typing` library. It also does not use numpy's types so all numpy arrays' type hinting use `np.ndarray`."
   ]
  },
  {
   "cell_type": "markdown",
   "id": "introductory-saying",
   "metadata": {},
   "source": [
    "Development to deprecation cycle\n",
    "--------------------------------\n",
    "\n",
    "New public functions appear and live in the following order:\n",
    "\n",
    "### 1. Unstable\n",
    "\n",
    "These functions are currently being developed. They are considered public in the development API, and private in the stable API. They are decorated by the `@unstable` decorator, which automates the documentation of their unstable status both in their doctring and in the API documentation. This decorator automates the inclusion of these functions in the development API, and their exclusion from the stable API."
   ]
  },
  {
   "cell_type": "code",
   "execution_count": null,
   "id": "caring-celebration",
   "metadata": {},
   "outputs": [],
   "source": [
    "from kineticstoolkit.decorators import unstable\n",
    "\n",
    "@unstable\n",
    "def function_name(arguments: str) -> None:\n",
    "    \"\"\"Perform an operation.\"\"\"\n",
    "    pass  # Function contents"
   ]
  },
  {
   "cell_type": "markdown",
   "id": "matched-purpose",
   "metadata": {},
   "source": [
    "### 2. Experimental\n",
    "\n",
    "These objects are part of the API but are not considered stable yet. They are documented accordingly in their docstring, with the following text just before the parameters section (by replacing the version number):\n",
    "\n",
    "    Warning\n",
    "    -------\n",
    "    This function, which has been introduced in 0.4, is still experimental and\n",
    "    may change signature or behaviour in the future.\n",
    "\n",
    "They don't have a dedicated decorator.\n",
    "\n",
    "### 3. Stable\n",
    "\n",
    "Standard production function, without specific decorator or warning.\n",
    "\n",
    "\n",
    "### 4. Deprecated\n",
    "\n",
    "Standard function, but decorated with the `@deprecated` decorator:"
   ]
  },
  {
   "cell_type": "code",
   "execution_count": null,
   "id": "spoken-monte",
   "metadata": {},
   "outputs": [],
   "source": [
    "from kineticstoolkit.decorators import deprecated\n",
    "\n",
    "@deprecated(since='0.1', until='0.2',\n",
    "            details='It has been replaced by `better_function` because '\n",
    "                    'the latter is much better.')\n",
    "def function_name(arguments: str) -> None:\n",
    "    \"\"\"Perform an operation.\"\"\"\n",
    "    pass  # Function contents"
   ]
  }
 ],
 "metadata": {
  "kernelspec": {
   "display_name": "Python 3",
   "language": "python",
   "name": "python3"
  },
  "language_info": {
   "codemirror_mode": {
    "name": "ipython",
    "version": 3
   },
   "file_extension": ".py",
   "mimetype": "text/x-python",
   "name": "python",
   "nbconvert_exporter": "python",
   "pygments_lexer": "ipython3",
   "version": "3.8.6"
  }
 },
 "nbformat": 4,
 "nbformat_minor": 5
}
