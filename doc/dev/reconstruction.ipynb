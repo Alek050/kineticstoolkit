{
 "cells": [
  {
   "cell_type": "markdown",
   "metadata": {},
   "source": [
    "Reconstructing virtual markers\n",
    "==============================\n",
    "\n",
    "\n",
    "\n",
    "In this tutorial, we will reconstruct virtual markers for anatomic landmarks that were not physically instrumented during the movement acquisition. We usually do this kind of reconstruction when it is not practical or feasible to stick a marker on an anatomical landmark. Instead, we track rigid bodies affixed to the whole segment, and we express the position of virtual markers relative to these rigid bodies.\n",
    "\n",
    "This process has two steps:\n",
    "\n",
    "1. A calibration step with several very short calibration acquisitions:\n",
    "\n",
    "    a) A static acquisition of a few seconds where we can see every marker.\n",
    "\n",
    "    b) Sometimes, probing acquisitions, one for each virtual marker. In each of these short acquisitions, we point the anatomical landmark using a calibrated probe. We need to see the probe's markers and the markers of the rigid body affixed to the landmark's segment.\n",
    "\n",
    "\n",
    "2. An task analysis step where the rigid bodies are tracked and the virtual markers are reconstructed into the task acquisition."
   ]
  },
  {
   "cell_type": "code",
   "execution_count": null,
   "metadata": {},
   "outputs": [],
   "source": [
    "import kineticstoolkit.lab as ktk\n",
    "import numpy as np"
   ]
  },
  {
   "cell_type": "markdown",
   "metadata": {},
   "source": [
    "Read and visualize marker trajectories\n",
    "--------------------------------------\n",
    "\n",
    "We proceed exactly as in the previous tutorials, but this time we will perform the analysis based on a minimal set of markers. Let's say that for the right arm and forearm, all we have is one real marker on the lateral epicondyle, and two plates of three markers affixed to the arm and forearm segments (we will show every other in blue for easier visualization)."
   ]
  },
  {
   "cell_type": "code",
   "execution_count": null,
   "metadata": {},
   "outputs": [],
   "source": [
    "# Read the markers\n",
    "markers = ktk.kinematics.read_c3d_file(\n",
    "    ktk.config.root_folder + '/data/kinematics/sample_propulsion.c3d')\n",
    "\n",
    "# Set every unnecessary markers to blue\n",
    "keep_white = ['LateralEpicondyleR', 'ArmR1', 'ArmR2', 'ArmR3',\n",
    "        'ForearmR1', 'ForearmR2', 'ForearmR3']\n",
    "\n",
    "for marker_name in markers.data:\n",
    "    if marker_name not in keep_white:\n",
    "        markers = markers.add_data_info(marker_name, 'Color', 'b')\n",
    "\n",
    "# Set the point of view for 3D visualization\n",
    "viewing_options = {\n",
    "    'zoom': 3.5,\n",
    "    'azimuth': 0.8,\n",
    "    'elevation': 0.16,\n",
    "    'translation': (0.2, -0.7)\n",
    "}\n",
    "\n",
    "# Create the player\n",
    "player = ktk.Player(markers, **viewing_options)\n",
    "player.to_html5(start_time=0, stop_time=1)"
   ]
  },
  {
   "cell_type": "markdown",
   "metadata": {},
   "source": [
    "The aim of this tutorial is to reconstruct the right acromion, medial epicondyle and both styloids using static and probing acquisitions. Let's begin."
   ]
  },
  {
   "cell_type": "markdown",
   "metadata": {},
   "source": [
    "Calibration: Defining rigid body configurations using a static acquisition\n",
    "--------------------------------------------------------------------------\n",
    "\n",
    "In the static acquisition, every marker should be visible. We can use this trial to define rigid body configuration, which is how the rigid body's markers are placed into its local coordinate.\n",
    "\n",
    "For this example, we will create arbitrary reference frames for the rigid bodies 'ArmR' and 'ForearmR'."
   ]
  },
  {
   "cell_type": "code",
   "execution_count": null,
   "metadata": {},
   "outputs": [],
   "source": [
    "rigid_body_definitions = dict()\n",
    "\n",
    "# Read the static trial\n",
    "markers_static = ktk.kinematics.read_c3d_file(\n",
    "    ktk.config.root_folder + '/data/kinematics/sample_static.c3d')\n",
    "\n",
    "# Show this trial, just to inspect it\n",
    "player = ktk.Player(markers_static, **viewing_options)\n",
    "player.to_html5(start_time=0, stop_time=0.5)"
   ]
  },
  {
   "cell_type": "markdown",
   "metadata": {},
   "source": [
    "Using this trial, we now define a rigid body for the arm plate:"
   ]
  },
  {
   "cell_type": "code",
   "execution_count": null,
   "metadata": {},
   "outputs": [],
   "source": [
    "rigid_body_definitions['ArmR'] = ktk.kinematics.define_rigid_body(\n",
    "    markers_static,\n",
    "    marker_names=['ArmR1', 'ArmR2', 'ArmR3'])\n",
    "\n",
    "rigid_body_definitions['ArmR']"
   ]
  },
  {
   "cell_type": "markdown",
   "metadata": {},
   "source": [
    "We proceed the same way for the forearm:"
   ]
  },
  {
   "cell_type": "code",
   "execution_count": null,
   "metadata": {},
   "outputs": [],
   "source": [
    "rigid_body_definitions['ForearmR'] = ktk.kinematics.define_rigid_body(\n",
    "    markers_static,\n",
    "    marker_names=['ForearmR1', 'ForearmR2', 'ForearmR3', 'LateralEpicondyleR'])\n",
    "\n",
    "rigid_body_definitions['ForearmR']"
   ]
  },
  {
   "cell_type": "markdown",
   "metadata": {},
   "source": [
    "For the probe, we will define its rigid body manually from its known specifications. Every 6 local point is expressed relative to a reference frame that is centered at the probe's tip:"
   ]
  },
  {
   "cell_type": "code",
   "execution_count": null,
   "metadata": {},
   "outputs": [],
   "source": [
    "rigid_body_definitions['Probe'] = {\n",
    "    'Probe1': np.array(\n",
    "            [[0.0021213, -0.0158328, 0.0864285, 1.0]]),\n",
    "    'Probe2': np.array(\n",
    "            [[0.0021213, 0.0158508, 0.0864285, 1.0]]),\n",
    "    'Probe3': np.array(\n",
    "            [[0.0020575, 0.0160096, 0.1309445, 1.0]]),\n",
    "    'Probe4': np.array(\n",
    "            [[0.0021213, 0.0161204, 0.1754395, 1.0]]),\n",
    "    'Probe5': np.array(\n",
    "            [[0.0017070, -0.0155780, 0.1753805, 1.0]]),\n",
    "    'Probe6': np.array(\n",
    "            [[0.0017762, -0.0156057, 0.1308888, 1.0]]),\n",
    "}"
   ]
  },
  {
   "cell_type": "markdown",
   "metadata": {},
   "source": [
    "Now that we defined these rigid body configurations, we will be able to track these rigid bodies in every other acquisition. This process can be done using the [track_rigid_body()](../api/kineticstoolkit.kinematics.track_rigid_body.rst) function.\n",
    "\n",
    "As an example, let's see how we can track these rigid bodies in the static acquisition:"
   ]
  },
  {
   "cell_type": "code",
   "execution_count": null,
   "metadata": {},
   "outputs": [],
   "source": [
    "# Create a target TimeSeries\n",
    "rigid_bodies_static = ktk.TimeSeries()\n",
    "\n",
    "for rigid_body_name in ['ArmR', 'ForearmR']:\n",
    "    \n",
    "    # Track this rigid body\n",
    "    trajectory = ktk.kinematics.track_rigid_body(\n",
    "        markers_static,\n",
    "        local_points=rigid_body_definitions[rigid_body_name],\n",
    "        label=rigid_body_name\n",
    "    )\n",
    "    \n",
    "    # Add it to the target TimeSeries\n",
    "    rigid_bodies_static.merge(trajectory, in_place=True)\n",
    "\n",
    "player = ktk.Player(markers_static, rigid_bodies_static, **viewing_options)\n",
    "player.to_html5(start_time=0, stop_time=0.5)"
   ]
  },
  {
   "cell_type": "markdown",
   "metadata": {},
   "source": [
    "Calibration: Defining the virtual marker configurations based on probing acquisitions\n",
    "-------------------------------------------------------------------------------------\n",
    "\n",
    "Now we will go though every probing acquisition and apply the same process on each acquisition:\n",
    "\n",
    "1. Locate the probe and the segment's rigid body using [track_rigid_body()](../api/kineticstoolkit.kinematics.track_rigid_body.rst);\n",
    "\n",
    "2. Express the tip of the probe in the segment's local coordinate system;\n",
    "\n",
    "3. Define a virtual marker based on the probe tip's local position, using [kinematics.define_virtual_marker()](../api/kineticstoolkit.kinematics.define_virtual_marker.rst)."
   ]
  },
  {
   "cell_type": "markdown",
   "metadata": {},
   "source": [
    "Since this is a repetitive operation, we will create a new function that will be called for each probing acquisition:"
   ]
  },
  {
   "cell_type": "code",
   "execution_count": null,
   "metadata": {},
   "outputs": [],
   "source": [
    "def process_probing_acquisition(file_name, rigid_body_name):\n",
    "\n",
    "    # Load the markers\n",
    "    markers_probing = ktk.kinematics.read_c3d_file(file_name)\n",
    "\n",
    "    # Track the reference rigid body\n",
    "    rigid_bodies_probing = (\n",
    "        ktk.kinematics.track_rigid_body(\n",
    "            markers_probing,\n",
    "            local_points=rigid_body_definitions[rigid_body_name],\n",
    "            label=rigid_body_name\n",
    "        )\n",
    "    )\n",
    "\n",
    "    # Track the probe\n",
    "    rigid_bodies_probing = rigid_bodies_probing.merge(\n",
    "        ktk.kinematics.track_rigid_body(\n",
    "            markers_probing,\n",
    "            local_points=rigid_body_definitions['Probe'],\n",
    "            label='Probe'\n",
    "        )\n",
    "    )\n",
    "    \n",
    "    # Return the local coordinates of the probed virtual marker\n",
    "    return ktk.kinematics.define_local_position(\n",
    "        rigid_bodies_probing,\n",
    "        source_name='Probe',\n",
    "        rigid_body_name=rigid_body_name\n",
    "    )"
   ]
  },
  {
   "cell_type": "markdown",
   "metadata": {},
   "source": [
    "Now, we can process every probing acquisition."
   ]
  },
  {
   "cell_type": "code",
   "execution_count": null,
   "metadata": {},
   "outputs": [],
   "source": [
    "rigid_body_definitions['ArmR']['AcromionR'] = (\n",
    "    process_probing_acquisition(\n",
    "        ktk.config.root_folder + '/data/kinematics/sample_probing_acromion_R.c3d',\n",
    "        'ArmR'\n",
    "    )\n",
    ")\n",
    "\n",
    "rigid_body_definitions['ArmR']['MedialEpicondyleR'] = (\n",
    "    process_probing_acquisition(\n",
    "        ktk.config.root_folder\n",
    "        + '/data/kinematics/sample_probing_medial_epicondyle_R.c3d',\n",
    "        'ArmR'\n",
    "    )\n",
    ")\n",
    "\n",
    "rigid_body_definitions['ForearmR']['RadialStyloidR'] = (\n",
    "    process_probing_acquisition(\n",
    "        ktk.config.root_folder\n",
    "        + '/data/kinematics/sample_probing_radial_styloid_R.c3d',\n",
    "        'ForearmR'\n",
    "    )\n",
    ")\n",
    "\n",
    "rigid_body_definitions['ForearmR']['UlnarStyloidR'] = (\n",
    "    process_probing_acquisition(\n",
    "        ktk.config.root_folder\n",
    "        + '/data/kinematics/sample_probing_ulnar_styloid_R.c3d',\n",
    "        'ForearmR'\n",
    "    )\n",
    ")"
   ]
  },
  {
   "cell_type": "markdown",
   "metadata": {},
   "source": [
    "We added the virtual markers as new local points to the rigid body definitions:"
   ]
  },
  {
   "cell_type": "code",
   "execution_count": null,
   "metadata": {},
   "outputs": [],
   "source": [
    "rigid_body_definitions['ArmR']"
   ]
  },
  {
   "cell_type": "code",
   "execution_count": null,
   "metadata": {},
   "outputs": [],
   "source": [
    "rigid_body_definitions['ForearmR']"
   ]
  },
  {
   "cell_type": "markdown",
   "metadata": {},
   "source": [
    "Task analysis: Tracking the rigid bodies\n",
    "----------------------------------------\n",
    "\n",
    "Now that we defined the rigid bodies and inluded virtual markers to it, we are ready to process the experimental trial we loaded at the beginning of this tutorial. We already loaded the markers; we will now track the rigid bodies. Since we added virtual markers to the rigid body definitions, we can use the `include_markers` option of [track_rigid_body()](../api/kineticstoolkit.kinematics.track_rigid_body.rst) to generate not only the rigid bodies' frame series, but also reconstruct every marker:"
   ]
  },
  {
   "cell_type": "code",
   "execution_count": null,
   "metadata": {},
   "outputs": [],
   "source": [
    "rigid_bodies = ktk.TimeSeries()\n",
    "\n",
    "for rigid_body_name in ['ArmR', 'ForearmR']:\n",
    "    rigid_bodies = rigid_bodies.merge(\n",
    "        ktk.kinematics.track_rigid_body(\n",
    "            markers,\n",
    "            local_points=rigid_body_definitions[rigid_body_name],\n",
    "            label=rigid_body_name,\n",
    "            include_markers = True\n",
    "        )\n",
    "    )\n",
    "\n",
    "# Show those rigid bodies and markers in a player\n",
    "player = ktk.Player(rigid_bodies, **viewing_options)\n",
    "\n",
    "player.to_html5(start_time=0, stop_time=1)"
   ]
  },
  {
   "cell_type": "markdown",
   "metadata": {},
   "source": [
    "That is it, we reconstructed the acromion, medial epicondyle and both styloids from probing acquisitions,  without requiring physical markers on these landmarks. We can conclude by adding the segments for clearer visualization. From now one, we could continue our analysis and calculate the elbow angles as in the previous tutorial."
   ]
  },
  {
   "cell_type": "code",
   "execution_count": null,
   "metadata": {},
   "outputs": [],
   "source": [
    "# Add the segments\n",
    "segments = {\n",
    "    'ArmR': {\n",
    "        'Color': [1, 0.25, 0],\n",
    "        'Links': [['AcromionR', 'MedialEpicondyleR'],\n",
    "                  ['AcromionR', 'LateralEpicondyleR']]\n",
    "    },\n",
    "    'ForearmR': {\n",
    "        'Color': [1, 0.5, 0],\n",
    "        'Links': [['MedialEpicondyleR', 'RadialStyloidR'],\n",
    "                  ['MedialEpicondyleR', 'UlnarStyloidR'],\n",
    "                  ['LateralEpicondyleR', 'RadialStyloidR'],\n",
    "                  ['LateralEpicondyleR', 'UlnarStyloidR'],\n",
    "                  ['UlnarStyloidR', 'RadialStyloidR']]\n",
    "    }\n",
    "}\n",
    "\n",
    "player = ktk.Player(markers, rigid_bodies, segments=segments, **viewing_options)\n",
    "player.to_html5(start_time=0, stop_time=1)"
   ]
  },
  {
   "cell_type": "markdown",
   "metadata": {},
   "source": [
    "For more information on kinematics, please check the [API Reference for the kinematics module](../api/kineticstoolkit.kinematics.rst)."
   ]
  }
 ],
 "metadata": {
  "kernelspec": {
   "display_name": "Python 3 (ipykernel)",
   "language": "python",
   "name": "python3"
  },
  "language_info": {
   "codemirror_mode": {
    "name": "ipython",
    "version": 3
   },
   "file_extension": ".py",
   "mimetype": "text/x-python",
   "name": "python",
   "nbconvert_exporter": "python",
   "pygments_lexer": "ipython3",
   "version": "3.8.10"
  },
  "toc": {
   "base_numbering": "1",
   "nav_menu": {},
   "number_sections": true,
   "sideBar": true,
   "skip_h1_title": true,
   "title_cell": "Table of Contents",
   "title_sidebar": "Contents",
   "toc_cell": true,
   "toc_position": {
    "height": "236px",
    "left": "723px",
    "top": "66px",
    "width": "350px"
   },
   "toc_section_display": true,
   "toc_window_display": true
  },
  "toc-autonumbering": false,
  "toc-showcode": false,
  "toc-showmarkdowntxt": false,
  "toc-showtags": false
 },
 "nbformat": 4,
 "nbformat_minor": 4
}
