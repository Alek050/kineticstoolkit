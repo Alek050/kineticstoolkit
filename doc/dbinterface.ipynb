{
 "cells": [
  {
   "cell_type": "markdown",
   "metadata": {},
   "source": [
    "DBInterface\n",
    "==========\n",
    "\n",
    ".. warning:: This class is in development and has not been released.\n",
    "\n",
    "The [DBInterface](api/kineticstoolkit.dbinterface.rst) class is used exclusively at the [Mobility and Adaptive Sports Research Lab](https://felixchenier.uqam.ca) and may be removed from ktk someday. Its aim is to interface with the BIOMEC database (https://felixchenier.uqam.ca/biomec) to fetch all non-personal information about a specified ongoing project.\n",
    "\n",
    "It is necessary to understand how data files are stored in BIOMEC before reading this tutorial.\n",
    "\n",
    "Please note that the user/password combination used in this tutorial is not valid, and that you should get access to BIOMEC to use ktk.dbinterface."
   ]
  },
  {
   "cell_type": "code",
   "execution_count": null,
   "metadata": {},
   "outputs": [],
   "source": [
    "import kineticstoolkit.lab as ktk\n",
    "import os\n",
    "import shutil"
   ]
  },
  {
   "cell_type": "markdown",
   "metadata": {},
   "source": [
    "Connecting to a BIOMEC project\n",
    "---------------------------------------\n",
    "The class constructor connects to the project and asks the user's credentials\n",
    "and the folder where the data files are stored.\n",
    "\n",
    "    project = ktk.DBInterface(project_label)\n",
    "\n",
    "For example:\n",
    "\n",
    "    project = ktk.DBInterface('FC_XX18A')\n",
    "\n",
    "The constructor can also be run non-interactively:"
   ]
  },
  {
   "cell_type": "code",
   "execution_count": null,
   "metadata": {},
   "outputs": [],
   "source": [
    "project_label = 'dummyProject'\n",
    "user = 'dummyUser'\n",
    "password = 'dummyPassword'\n",
    "root_folder = 'data/dbinterface/FC_XX18A'\n",
    "url = ''\n",
    "url = 'http://localhost/biomec'  # This line is only for this tutorial,\n",
    "                                 # please don't execute it.\n",
    "\n",
    "project = ktk.DBInterface(project_label,\n",
    "                          user=user,\n",
    "                          password=password,\n",
    "                          root_folder=root_folder,\n",
    "                          url=url)"
   ]
  },
  {
   "cell_type": "markdown",
   "metadata": {},
   "source": [
    "Navigating in the project\n",
    "-------------------------\n",
    "Just typing ``project`` gives an overview of the project's content."
   ]
  },
  {
   "cell_type": "code",
   "execution_count": null,
   "metadata": {},
   "outputs": [],
   "source": [
    "project"
   ]
  },
  {
   "cell_type": "markdown",
   "metadata": {},
   "source": [
    "The method ``get`` is used to extract the project's contents. It always returns\n",
    "a dict with the fields corresponding to the request. For example:"
   ]
  },
  {
   "cell_type": "code",
   "execution_count": null,
   "metadata": {},
   "outputs": [],
   "source": [
    "project.get()"
   ]
  },
  {
   "cell_type": "code",
   "execution_count": null,
   "metadata": {},
   "outputs": [],
   "source": [
    "project.get('P1')"
   ]
  },
  {
   "cell_type": "code",
   "execution_count": null,
   "metadata": {},
   "outputs": [],
   "source": [
    "project.get('P1')['Sessions']"
   ]
  },
  {
   "cell_type": "code",
   "execution_count": null,
   "metadata": {},
   "outputs": [],
   "source": [
    "project.get('P1', 'GymnaseN1')"
   ]
  },
  {
   "cell_type": "code",
   "execution_count": null,
   "metadata": {},
   "outputs": [],
   "source": [
    "project.get('P1', 'GymnaseN1')['Trials']"
   ]
  },
  {
   "cell_type": "code",
   "execution_count": null,
   "metadata": {},
   "outputs": [],
   "source": [
    "project.get('P1', 'GymnaseN1', 'Run1')"
   ]
  },
  {
   "cell_type": "code",
   "execution_count": null,
   "metadata": {},
   "outputs": [],
   "source": [
    "project.get('P1', 'GymnaseN1', 'Run1')['Files']"
   ]
  },
  {
   "cell_type": "code",
   "execution_count": null,
   "metadata": {},
   "outputs": [],
   "source": [
    "project.get('P1', 'GymnaseN1', 'Run1', 'Kinematics')"
   ]
  },
  {
   "cell_type": "code",
   "execution_count": null,
   "metadata": {},
   "outputs": [],
   "source": [
    "project.get('P1', 'GymnaseN1', 'Run1', 'Kinematics')['FileName']"
   ]
  },
  {
   "cell_type": "markdown",
   "metadata": {},
   "source": [
    "Saving data to a BIOMEC referenced file\n",
    "---------------------------------------\n",
    "The ktk library provides the function ktk.save to save a variable to a JSON file. The ktk.save function is helpful to save temporary results.\n",
    "\n",
    "However, sometimes we need to save results to BIOMEC so that these results become new inputs for subsequent work. In these case, we use the ktk.DBInterface's ``save`` method.\n",
    "\n",
    "For example, let's say we just synchronized the kinematics for Run1 of participant 1:"
   ]
  },
  {
   "cell_type": "code",
   "execution_count": null,
   "metadata": {},
   "outputs": [],
   "source": [
    "synced_kinematics = {'dummy_data':\n",
    "                     'Normally we would save something more useful'}"
   ]
  },
  {
   "cell_type": "markdown",
   "metadata": {},
   "source": [
    "We can save these kinematics as a file that is referenced in BIOMEC, using:"
   ]
  },
  {
   "cell_type": "code",
   "execution_count": null,
   "metadata": {},
   "outputs": [],
   "source": [
    "project.save('P1', 'GymnaseN1', 'Run1', 'SyncedKinematics', synced_kinematics)"
   ]
  },
  {
   "cell_type": "markdown",
   "metadata": {},
   "source": [
    "This creates the file entry in BIOMEC if needed, then save the file with\n",
    "a relevant name into the project folder.\n",
    "\n",
    "We can now obtain the file name using the ``get`` method introduced precedently."
   ]
  },
  {
   "cell_type": "code",
   "execution_count": null,
   "metadata": {},
   "outputs": [],
   "source": [
    "project.get('P1', 'GymnaseN1', 'Run1', 'SyncedKinematics')['FileName']"
   ]
  },
  {
   "cell_type": "markdown",
   "metadata": {},
   "source": [
    "Loading data from a BIOMEC referenced file\n",
    "------------------------------------------\n",
    "To load back data saved to BIOMEC, we use the ktk.DBInterface's ``load``\n",
    "method."
   ]
  },
  {
   "cell_type": "code",
   "execution_count": null,
   "metadata": {},
   "outputs": [],
   "source": [
    "test = project.load('P1', 'GymnaseN1', 'Run1', 'SyncedKinematics')\n",
    "\n",
    "test"
   ]
  },
  {
   "cell_type": "markdown",
   "metadata": {},
   "source": [
    "Let's do a little clean up before going on."
   ]
  },
  {
   "cell_type": "code",
   "execution_count": null,
   "metadata": {},
   "outputs": [],
   "source": [
    "shutil.rmtree(root_folder + '/SyncedKinematics')"
   ]
  },
  {
   "cell_type": "markdown",
   "metadata": {},
   "source": [
    "Dealing with external software\n",
    "------------------------------\n",
    "The DBInterface's ``save`` and ``load`` methods work very well for data that were processed in Python using ktk. However, things may get complicated when using external software to process data.\n",
    "\n",
    "In this example, we will synchronize the kinematics using an external synchronizing tool, then enter the resulting files into BIOMEC. We will work with these files:"
   ]
  },
  {
   "cell_type": "code",
   "execution_count": null,
   "metadata": {},
   "outputs": [],
   "source": [
    "file_list = []\n",
    "for trial in ['Walk1', 'Walk2', 'Run1', 'Run2']:\n",
    "    file_list.append(project.get(\n",
    "        'P1', 'GymnaseN1', trial, 'Kinematics')['FileName'])\n",
    "\n",
    "file_list"
   ]
  },
  {
   "cell_type": "markdown",
   "metadata": {},
   "source": [
    "Let say we synchronized these files using an external software, and then we\n",
    "exported the synchronized files into a separate folder.\n",
    "\n",
    "(Here we will simply copy those files into a separate folder)."
   ]
  },
  {
   "cell_type": "code",
   "execution_count": null,
   "metadata": {},
   "outputs": [],
   "source": [
    "os.mkdir(root_folder + '/synchronized_files')\n",
    "\n",
    "for file in file_list:\n",
    "    dest_file = file.replace(root_folder, root_folder + '/synchronized_files')\n",
    "    shutil.copyfile(file, dest_file)\n",
    "\n",
    "os.listdir(root_folder + '/synchronized_files')"
   ]
  },
  {
   "cell_type": "markdown",
   "metadata": {},
   "source": [
    "All is good, but the dbfids in the new ``synchronized_files`` folder refer to\n",
    "the original ``Kinematics`` file type, not to the ``SyncedKinematics`` file\n",
    "type. Moreover, there are now duplicate dbfids in the project:"
   ]
  },
  {
   "cell_type": "code",
   "execution_count": null,
   "metadata": {},
   "outputs": [],
   "source": [
    "project.refresh()"
   ]
  },
  {
   "cell_type": "code",
   "execution_count": null,
   "metadata": {},
   "outputs": [],
   "source": [
    "project.duplicates"
   ]
  },
  {
   "cell_type": "markdown",
   "metadata": {},
   "source": [
    "Therefore we need to assign new dbfids to the files we just synchronized, so that they refer to ``SyncedKinematics`` entries in BIOMEC. The method ``batch_fix_file_type`` will help."
   ]
  },
  {
   "cell_type": "code",
   "execution_count": null,
   "metadata": {},
   "outputs": [],
   "source": [
    "project.batch_fix_file_type(root_folder + '/synchronized_files',\n",
    "                            'SyncedKinematics',\n",
    "                            create_file_entries=True,\n",
    "                            dry_run=False)"
   ]
  },
  {
   "cell_type": "markdown",
   "metadata": {},
   "source": [
    "Now let see what happened in the ``synchronized_files`` folder:"
   ]
  },
  {
   "cell_type": "code",
   "execution_count": null,
   "metadata": {},
   "outputs": [],
   "source": [
    "os.listdir(root_folder + '/synchronized_files')"
   ]
  },
  {
   "cell_type": "markdown",
   "metadata": {},
   "source": [
    "The files' dbfid have been updated so they now refer to ``SyncedKinematics`` and not to ``Kinematics`` anymore. Moreover, the project does not have duplicate dbfids anymore:"
   ]
  },
  {
   "cell_type": "code",
   "execution_count": null,
   "metadata": {},
   "outputs": [],
   "source": [
    "project.refresh()"
   ]
  },
  {
   "cell_type": "markdown",
   "metadata": {},
   "source": [
    "Let's do a little clean up before going on."
   ]
  },
  {
   "cell_type": "code",
   "execution_count": null,
   "metadata": {},
   "outputs": [],
   "source": [
    "shutil.rmtree(root_folder + '/synchronized_files')\n",
    "project.refresh()"
   ]
  },
  {
   "cell_type": "markdown",
   "metadata": {},
   "source": [
    "Including information in file names\n",
    "-----------------------------------\n",
    "It can be difficult to deal with a bunch of numbered files without knowing their signification without looking in BIOMEC. The ``tag_files`` method allows adding the trial name to the file names, so that their context is a bit clearer and less error-prone."
   ]
  },
  {
   "cell_type": "code",
   "execution_count": null,
   "metadata": {},
   "outputs": [],
   "source": [
    "os.listdir(root_folder)"
   ]
  },
  {
   "cell_type": "markdown",
   "metadata": {},
   "source": [
    "Include the trial name in the file names:"
   ]
  },
  {
   "cell_type": "code",
   "execution_count": null,
   "metadata": {},
   "outputs": [],
   "source": [
    "project.tag_files(include_trial_name=True, dry_run=False)\n",
    "\n",
    "os.listdir(root_folder)"
   ]
  },
  {
   "cell_type": "markdown",
   "metadata": {},
   "source": [
    "Remove the trial name from the file names:"
   ]
  },
  {
   "cell_type": "code",
   "execution_count": null,
   "metadata": {},
   "outputs": [],
   "source": [
    "project.tag_files(include_trial_name=False, dry_run=False)\n",
    "\n",
    "os.listdir(root_folder)"
   ]
  },
  {
   "cell_type": "markdown",
   "metadata": {},
   "source": [
    "For more information on DBInterface, please check the [API Reference](api/kineticstoolkit.dbinterface.rst)."
   ]
  }
 ],
 "metadata": {
  "kernelspec": {
   "display_name": "Python 3",
   "language": "python",
   "name": "python3"
  },
  "language_info": {
   "codemirror_mode": {
    "name": "ipython",
    "version": 3
   },
   "file_extension": ".py",
   "mimetype": "text/x-python",
   "name": "python",
   "nbconvert_exporter": "python",
   "pygments_lexer": "ipython3",
   "version": "3.8.6"
  }
 },
 "nbformat": 4,
 "nbformat_minor": 4
}
