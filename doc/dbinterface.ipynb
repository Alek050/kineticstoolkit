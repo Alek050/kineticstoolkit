{
 "cells": [
  {
   "cell_type": "markdown",
   "metadata": {},
   "source": [
    "DBInterface\n",
    "==========\n",
    "\n",
    "The [DBInterface](api/ktk.dbinterface.rst) class is used exclusively at the [Mobility and Adaptive Sports Research Lab](https://felixchenier.uqam.ca) and may be removed from ktk someday. Its aim is to interface with the BIOMEC database (https://felixchenier.uqam.ca/biomec) to fetch all non-personal information about a specified ongoing project.\n",
    "\n",
    "It is necessary to understand how data files are stored in BIOMEC before reading this tutorial.\n",
    "\n",
    "Please note that the user/password combination used in this tutorial is not valid, and that you should get access to BIOMEC to use ktk.dbinterface."
   ]
  },
  {
   "cell_type": "code",
   "execution_count": 1,
   "metadata": {
    "execution": {
     "iopub.execute_input": "2020-10-22T02:39:22.788551Z",
     "iopub.status.busy": "2020-10-22T02:39:22.787390Z",
     "iopub.status.idle": "2020-10-22T02:39:25.598583Z",
     "shell.execute_reply": "2020-10-22T02:39:25.600359Z"
    }
   },
   "outputs": [],
   "source": [
    "import ktk.lab as ktk\n",
    "import os\n",
    "import shutil"
   ]
  },
  {
   "cell_type": "markdown",
   "metadata": {},
   "source": [
    "Connecting to a BIOMEC project\n",
    "---------------------------------------\n",
    "The class constructor connects to the project and asks the user's credentials\n",
    "and the folder where the data files are stored.\n",
    "\n",
    "    project = ktk.DBInterface(project_label)\n",
    "\n",
    "For example:\n",
    "\n",
    "    project = ktk.DBInterface('FC_XX18A')\n",
    "\n",
    "The constructor can also be run non-interactively:"
   ]
  },
  {
   "cell_type": "code",
   "execution_count": 2,
   "metadata": {
    "execution": {
     "iopub.execute_input": "2020-10-22T02:39:25.613416Z",
     "iopub.status.busy": "2020-10-22T02:39:25.607693Z",
     "iopub.status.idle": "2020-10-22T02:39:25.790592Z",
     "shell.execute_reply": "2020-10-22T02:39:25.791813Z"
    }
   },
   "outputs": [],
   "source": [
    "project_label = 'dummyProject'\n",
    "user = 'dummyUser'\n",
    "password = 'dummyPassword'\n",
    "root_folder = 'data/dbinterface/FC_XX18A'\n",
    "url = ''\n",
    "url = 'http://localhost/biomec'  # This line is only for this tutorial,\n",
    "                                 # please don't execute it.\n",
    "\n",
    "project = ktk.DBInterface(project_label,\n",
    "                          user=user,\n",
    "                          password=password,\n",
    "                          root_folder=root_folder,\n",
    "                          url=url)"
   ]
  },
  {
   "cell_type": "markdown",
   "metadata": {},
   "source": [
    "Navigating in the project\n",
    "-------------------------\n",
    "Just typing ``project`` gives an overview of the project's content."
   ]
  },
  {
   "cell_type": "code",
   "execution_count": 3,
   "metadata": {
    "execution": {
     "iopub.execute_input": "2020-10-22T02:39:25.806611Z",
     "iopub.status.busy": "2020-10-22T02:39:25.805530Z",
     "iopub.status.idle": "2020-10-22T02:39:25.810915Z",
     "shell.execute_reply": "2020-10-22T02:39:25.812016Z"
    }
   },
   "outputs": [
    {
     "data": {
      "text/plain": [
       "--------------------------------------------------\n",
       "DBInterface\n",
       "--------------------------------------------------\n",
       "          url: http://localhost/biomec\n",
       "         user: dummyUser\n",
       "project_label: dummyProject\n",
       "  root_folder: data/dbinterface/FC_XX18A\n",
       "--------------------------------------------------\n",
       "participants:\n",
       "['P1']\n",
       "--------------------------------------------------\n",
       "sessions:\n",
       "['GymnaseN1', 'ArenaCESR1']\n",
       "--------------------------------------------------\n",
       "trials:\n",
       "['Run1', 'Run2', 'Walk1', 'Walk2']\n",
       "--------------------------------------------------\n",
       "files:\n",
       "['Kinematics', 'Kinetics', 'SyncedKinematics']\n",
       "--------------------------------------------------"
      ]
     },
     "execution_count": 1,
     "metadata": {},
     "output_type": "execute_result"
    }
   ],
   "source": [
    "project"
   ]
  },
  {
   "cell_type": "markdown",
   "metadata": {},
   "source": [
    "The method ``get`` is used to extract the project's contents. It always returns\n",
    "a dict with the fields corresponding to the request. For example:"
   ]
  },
  {
   "cell_type": "code",
   "execution_count": 4,
   "metadata": {
    "execution": {
     "iopub.execute_input": "2020-10-22T02:39:25.829628Z",
     "iopub.status.busy": "2020-10-22T02:39:25.828533Z",
     "iopub.status.idle": "2020-10-22T02:39:25.833733Z",
     "shell.execute_reply": "2020-10-22T02:39:25.834853Z"
    }
   },
   "outputs": [
    {
     "data": {
      "text/plain": [
       "{\n",
       "          'Participants': <list of 1 items>,\n",
       "        'ProjectEndDate': None,\n",
       "             'ProjectID': 11,\n",
       "          'ProjectLabel': 'dummyProject',\n",
       "      'ProjectStartDate': None,\n",
       "          'ProjectTitle': 'Dummy Project for the ktkDBInterface tutorial'\n",
       "}"
      ]
     },
     "execution_count": 1,
     "metadata": {},
     "output_type": "execute_result"
    }
   ],
   "source": [
    "project.get()"
   ]
  },
  {
   "cell_type": "code",
   "execution_count": 5,
   "metadata": {
    "execution": {
     "iopub.execute_input": "2020-10-22T02:39:25.845618Z",
     "iopub.status.busy": "2020-10-22T02:39:25.844598Z",
     "iopub.status.idle": "2020-10-22T02:39:25.859528Z",
     "shell.execute_reply": "2020-10-22T02:39:25.860652Z"
    }
   },
   "outputs": [
    {
     "data": {
      "text/plain": [
       "{\n",
       "                   'AIS': None,\n",
       "           'DateOfBirth': None,\n",
       "          'DateOfInjury': None,\n",
       "          'DominantSide': None,\n",
       "         'ParticipantID': 127,\n",
       "      'ParticipantLabel': 'P1',\n",
       "             'Pathology': 'Pathologie inconnue',\n",
       "             'ProjectID': 11,\n",
       "          'ProjectLabel': 'dummyProject',\n",
       "              'Sessions': <list of 2 items>,\n",
       "                   'Sex': None,\n",
       "             'Traumatic': None,\n",
       "                   'UID': 1\n",
       "}"
      ]
     },
     "execution_count": 1,
     "metadata": {},
     "output_type": "execute_result"
    }
   ],
   "source": [
    "project.get('P1')"
   ]
  },
  {
   "cell_type": "code",
   "execution_count": 6,
   "metadata": {
    "execution": {
     "iopub.execute_input": "2020-10-22T02:39:25.877720Z",
     "iopub.status.busy": "2020-10-22T02:39:25.876417Z",
     "iopub.status.idle": "2020-10-22T02:39:25.889019Z",
     "shell.execute_reply": "2020-10-22T02:39:25.890011Z"
    }
   },
   "outputs": [
    {
     "data": {
      "text/plain": [
       "['GymnaseN1', 'ArenaCESR1']"
      ]
     },
     "execution_count": 1,
     "metadata": {},
     "output_type": "execute_result"
    }
   ],
   "source": [
    "project.get('P1')['Sessions']"
   ]
  },
  {
   "cell_type": "code",
   "execution_count": 7,
   "metadata": {
    "execution": {
     "iopub.execute_input": "2020-10-22T02:39:25.909334Z",
     "iopub.status.busy": "2020-10-22T02:39:25.908065Z",
     "iopub.status.idle": "2020-10-22T02:39:25.913402Z",
     "shell.execute_reply": "2020-10-22T02:39:25.914564Z"
    }
   },
   "outputs": [
    {
     "data": {
      "text/plain": [
       "{\n",
       "          'ParticipantID': 127,\n",
       "       'ParticipantLabel': 'P1',\n",
       "             'PlaceLabel': 'GymnaseN',\n",
       "            'SessionDate': '2018-10-17',\n",
       "              'SessionID': 127,\n",
       "           'SessionLabel': 'GymnaseN1',\n",
       "           'SessionNotes': None,\n",
       "      'SessionRepetition': 1,\n",
       "                 'Trials': <list of 4 items>\n",
       "}"
      ]
     },
     "execution_count": 1,
     "metadata": {},
     "output_type": "execute_result"
    }
   ],
   "source": [
    "project.get('P1', 'GymnaseN1')"
   ]
  },
  {
   "cell_type": "code",
   "execution_count": 8,
   "metadata": {
    "execution": {
     "iopub.execute_input": "2020-10-22T02:39:25.932551Z",
     "iopub.status.busy": "2020-10-22T02:39:25.931385Z",
     "iopub.status.idle": "2020-10-22T02:39:25.936660Z",
     "shell.execute_reply": "2020-10-22T02:39:25.937789Z"
    }
   },
   "outputs": [
    {
     "data": {
      "text/plain": [
       "['Run1', 'Run2', 'Walk1', 'Walk2']"
      ]
     },
     "execution_count": 1,
     "metadata": {},
     "output_type": "execute_result"
    }
   ],
   "source": [
    "project.get('P1', 'GymnaseN1')['Trials']"
   ]
  },
  {
   "cell_type": "code",
   "execution_count": 9,
   "metadata": {
    "execution": {
     "iopub.execute_input": "2020-10-22T02:39:25.953587Z",
     "iopub.status.busy": "2020-10-22T02:39:25.947899Z",
     "iopub.status.idle": "2020-10-22T02:39:25.962977Z",
     "shell.execute_reply": "2020-10-22T02:39:25.964179Z"
    }
   },
   "outputs": [
    {
     "data": {
      "text/plain": [
       "{\n",
       "                     'Files': <list of 3 items>,\n",
       "          'ParticipantLabel': 'P1',\n",
       "                 'SessionID': 127,\n",
       "              'SessionLabel': 'GymnaseN1',\n",
       "                   'TrialID': 3150,\n",
       "                'TrialLabel': 'Run1',\n",
       "                'TrialNotes': None,\n",
       "           'TrialRepetition': 1,\n",
       "      'TrialTypeDescription': None,\n",
       "               'TrialTypeID': 204,\n",
       "            'TrialTypeLabel': 'Run'\n",
       "}"
      ]
     },
     "execution_count": 1,
     "metadata": {},
     "output_type": "execute_result"
    }
   ],
   "source": [
    "project.get('P1', 'GymnaseN1', 'Run1')"
   ]
  },
  {
   "cell_type": "code",
   "execution_count": 10,
   "metadata": {
    "execution": {
     "iopub.execute_input": "2020-10-22T02:39:25.985747Z",
     "iopub.status.busy": "2020-10-22T02:39:25.984793Z",
     "iopub.status.idle": "2020-10-22T02:39:25.991343Z",
     "shell.execute_reply": "2020-10-22T02:39:25.993355Z"
    }
   },
   "outputs": [
    {
     "data": {
      "text/plain": [
       "['Kinematics', 'Kinetics', 'SyncedKinematics']"
      ]
     },
     "execution_count": 1,
     "metadata": {},
     "output_type": "execute_result"
    }
   ],
   "source": [
    "project.get('P1', 'GymnaseN1', 'Run1')['Files']"
   ]
  },
  {
   "cell_type": "code",
   "execution_count": 11,
   "metadata": {
    "execution": {
     "iopub.execute_input": "2020-10-22T02:39:26.008524Z",
     "iopub.status.busy": "2020-10-22T02:39:26.006801Z",
     "iopub.status.idle": "2020-10-22T02:39:26.013298Z",
     "shell.execute_reply": "2020-10-22T02:39:26.014860Z"
    }
   },
   "outputs": [
    {
     "data": {
      "text/plain": [
       "{\n",
       "      'FileFormatExtension': None,\n",
       "          'FileFormatLabel': 'C3D',\n",
       "                   'FileID': 6681,\n",
       "                'FileLabel': 'Kinematics',\n",
       "                 'FileName': 'data/dbinterface/FC_XX18A/kinematics1_dbfid6681n.c3d',\n",
       "      'FileTypeDescription': 'Kinematics recorded using a Vicon system',\n",
       "               'FileTypeID': 29,\n",
       "            'FileTypeLabel': 'Kinematics',\n",
       "         'ParticipantLabel': 'P1',\n",
       "             'SessionLabel': 'GymnaseN1',\n",
       "                  'TrialID': 3150,\n",
       "               'TrialLabel': 'Run1',\n",
       "                    'dbfid': 'dbfid6681n'\n",
       "}"
      ]
     },
     "execution_count": 1,
     "metadata": {},
     "output_type": "execute_result"
    }
   ],
   "source": [
    "project.get('P1', 'GymnaseN1', 'Run1', 'Kinematics')"
   ]
  },
  {
   "cell_type": "code",
   "execution_count": 12,
   "metadata": {
    "execution": {
     "iopub.execute_input": "2020-10-22T02:39:26.031061Z",
     "iopub.status.busy": "2020-10-22T02:39:26.029220Z",
     "iopub.status.idle": "2020-10-22T02:39:26.036969Z",
     "shell.execute_reply": "2020-10-22T02:39:26.038415Z"
    }
   },
   "outputs": [
    {
     "data": {
      "text/plain": [
       "'data/dbinterface/FC_XX18A/kinematics1_dbfid6681n.c3d'"
      ]
     },
     "execution_count": 1,
     "metadata": {},
     "output_type": "execute_result"
    }
   ],
   "source": [
    "project.get('P1', 'GymnaseN1', 'Run1', 'Kinematics')['FileName']"
   ]
  },
  {
   "cell_type": "markdown",
   "metadata": {},
   "source": [
    "Saving data to a BIOMEC referenced file\n",
    "---------------------------------------\n",
    "The ktk library provides the function ktk.save to save a variable to a JSON file. The ktk.save function is helpful to save temporary results.\n",
    "\n",
    "However, sometimes we need to save results to BIOMEC so that these results become new inputs for subsequent work. In these case, we use the ktk.DBInterface's ``save`` method.\n",
    "\n",
    "For example, let's say we just synchronized the kinematics for Run1 of participant 1:"
   ]
  },
  {
   "cell_type": "code",
   "execution_count": 13,
   "metadata": {
    "execution": {
     "iopub.execute_input": "2020-10-22T02:39:26.046606Z",
     "iopub.status.busy": "2020-10-22T02:39:26.044877Z",
     "iopub.status.idle": "2020-10-22T02:39:26.049121Z",
     "shell.execute_reply": "2020-10-22T02:39:26.050384Z"
    }
   },
   "outputs": [],
   "source": [
    "synced_kinematics = {'dummy_data':\n",
    "                     'Normally we would save something more useful'}"
   ]
  },
  {
   "cell_type": "markdown",
   "metadata": {},
   "source": [
    "We can save these kinematics as a file that is referenced in BIOMEC, using:"
   ]
  },
  {
   "cell_type": "code",
   "execution_count": 14,
   "metadata": {
    "execution": {
     "iopub.execute_input": "2020-10-22T02:39:26.081969Z",
     "iopub.status.busy": "2020-10-22T02:39:26.079024Z",
     "iopub.status.idle": "2020-10-22T02:39:26.245053Z",
     "shell.execute_reply": "2020-10-22T02:39:26.249786Z"
    }
   },
   "outputs": [
    {
     "data": {
      "text/plain": [
       "'data/dbinterface/FC_XX18A/SyncedKinematics/P1/GymnaseN1/dbfid11524n_{Run1}.ktk.zip'"
      ]
     },
     "execution_count": 1,
     "metadata": {},
     "output_type": "execute_result"
    }
   ],
   "source": [
    "project.save('P1', 'GymnaseN1', 'Run1', 'SyncedKinematics', synced_kinematics)"
   ]
  },
  {
   "cell_type": "markdown",
   "metadata": {},
   "source": [
    "This creates the file entry in BIOMEC if needed, then save the file with\n",
    "a relevant name into the project folder.\n",
    "\n",
    "We can now obtain the file name using the ``get`` method introduced precedently."
   ]
  },
  {
   "cell_type": "code",
   "execution_count": 15,
   "metadata": {
    "execution": {
     "iopub.execute_input": "2020-10-22T02:39:26.270982Z",
     "iopub.status.busy": "2020-10-22T02:39:26.269435Z",
     "iopub.status.idle": "2020-10-22T02:39:26.280878Z",
     "shell.execute_reply": "2020-10-22T02:39:26.283138Z"
    }
   },
   "outputs": [
    {
     "data": {
      "text/plain": [
       "'data/dbinterface/FC_XX18A/SyncedKinematics/P1/GymnaseN1/dbfid11524n_{Run1}.ktk.zip'"
      ]
     },
     "execution_count": 1,
     "metadata": {},
     "output_type": "execute_result"
    }
   ],
   "source": [
    "project.get('P1', 'GymnaseN1', 'Run1', 'SyncedKinematics')['FileName']"
   ]
  },
  {
   "cell_type": "markdown",
   "metadata": {},
   "source": [
    "Loading data from a BIOMEC referenced file\n",
    "------------------------------------------\n",
    "To load back data saved to BIOMEC, we use the ktk.DBInterface's ``load``\n",
    "method."
   ]
  },
  {
   "cell_type": "code",
   "execution_count": 16,
   "metadata": {
    "execution": {
     "iopub.execute_input": "2020-10-22T02:39:26.306025Z",
     "iopub.status.busy": "2020-10-22T02:39:26.304314Z",
     "iopub.status.idle": "2020-10-22T02:39:26.315680Z",
     "shell.execute_reply": "2020-10-22T02:39:26.317077Z"
    }
   },
   "outputs": [
    {
     "data": {
      "text/plain": [
       "{\n",
       "      'dummy_data': 'Normally we would save something more useful'\n",
       "}"
      ]
     },
     "execution_count": 1,
     "metadata": {},
     "output_type": "execute_result"
    }
   ],
   "source": [
    "test = project.load('P1', 'GymnaseN1', 'Run1', 'SyncedKinematics')\n",
    "\n",
    "test"
   ]
  },
  {
   "cell_type": "markdown",
   "metadata": {},
   "source": [
    "Let's do a little clean up before going on."
   ]
  },
  {
   "cell_type": "code",
   "execution_count": 17,
   "metadata": {
    "execution": {
     "iopub.execute_input": "2020-10-22T02:39:26.324984Z",
     "iopub.status.busy": "2020-10-22T02:39:26.323739Z",
     "iopub.status.idle": "2020-10-22T02:39:26.329511Z",
     "shell.execute_reply": "2020-10-22T02:39:26.331492Z"
    }
   },
   "outputs": [],
   "source": [
    "shutil.rmtree(root_folder + '/SyncedKinematics')"
   ]
  },
  {
   "cell_type": "markdown",
   "metadata": {},
   "source": [
    "Dealing with external software\n",
    "------------------------------\n",
    "The DBInterface's ``save`` and ``load`` methods work very well for data that were processed in Python using ktk. However, things may get complicated when using external software to process data.\n",
    "\n",
    "In this example, we will synchronize the kinematics using an external synchronizing tool, then enter the resulting files into BIOMEC. We will work with these files:"
   ]
  },
  {
   "cell_type": "code",
   "execution_count": 18,
   "metadata": {
    "execution": {
     "iopub.execute_input": "2020-10-22T02:39:26.378166Z",
     "iopub.status.busy": "2020-10-22T02:39:26.376153Z",
     "iopub.status.idle": "2020-10-22T02:39:26.386263Z",
     "shell.execute_reply": "2020-10-22T02:39:26.388877Z"
    }
   },
   "outputs": [
    {
     "data": {
      "text/plain": [
       "['data/dbinterface/FC_XX18A/kinematics3_dbfid6685n.c3d',\n",
       " 'data/dbinterface/FC_XX18A/kinematics4_dbfid6687n.c3d',\n",
       " 'data/dbinterface/FC_XX18A/kinematics1_dbfid6681n.c3d',\n",
       " 'data/dbinterface/FC_XX18A/kinematics2_dbfid6683n.c3d']"
      ]
     },
     "execution_count": 1,
     "metadata": {},
     "output_type": "execute_result"
    }
   ],
   "source": [
    "file_list = []\n",
    "for trial in ['Walk1', 'Walk2', 'Run1', 'Run2']:\n",
    "    file_list.append(project.get(\n",
    "        'P1', 'GymnaseN1', trial, 'Kinematics')['FileName'])\n",
    "\n",
    "file_list"
   ]
  },
  {
   "cell_type": "markdown",
   "metadata": {},
   "source": [
    "Let say we synchronized these files using an external software, and then we\n",
    "exported the synchronized files into a separate folder.\n",
    "\n",
    "(Here we will simply copy those files into a separate folder)."
   ]
  },
  {
   "cell_type": "code",
   "execution_count": 19,
   "metadata": {
    "execution": {
     "iopub.execute_input": "2020-10-22T02:39:26.400807Z",
     "iopub.status.busy": "2020-10-22T02:39:26.398574Z",
     "iopub.status.idle": "2020-10-22T02:39:26.408703Z",
     "shell.execute_reply": "2020-10-22T02:39:26.410164Z"
    }
   },
   "outputs": [
    {
     "data": {
      "text/plain": [
       "['kinematics3_dbfid6685n.c3d',\n",
       " 'kinematics2_dbfid6683n.c3d',\n",
       " 'kinematics4_dbfid6687n.c3d',\n",
       " 'kinematics1_dbfid6681n.c3d']"
      ]
     },
     "execution_count": 1,
     "metadata": {},
     "output_type": "execute_result"
    }
   ],
   "source": [
    "os.mkdir(root_folder + '/synchronized_files')\n",
    "\n",
    "for file in file_list:\n",
    "    dest_file = file.replace(root_folder, root_folder + '/synchronized_files')\n",
    "    shutil.copyfile(file, dest_file)\n",
    "\n",
    "os.listdir(root_folder + '/synchronized_files')"
   ]
  },
  {
   "cell_type": "markdown",
   "metadata": {},
   "source": [
    "All is good, but the dbfids in the new ``synchronized_files`` folder refer to\n",
    "the original ``Kinematics`` file type, not to the ``SyncedKinematics`` file\n",
    "type. Moreover, there are now duplicate dbfids in the project:"
   ]
  },
  {
   "cell_type": "code",
   "execution_count": 20,
   "metadata": {
    "execution": {
     "iopub.execute_input": "2020-10-22T02:39:26.418150Z",
     "iopub.status.busy": "2020-10-22T02:39:26.416469Z",
     "iopub.status.idle": "2020-10-22T02:39:26.555992Z",
     "shell.execute_reply": "2020-10-22T02:39:26.558213Z"
    }
   },
   "outputs": [
    {
     "name": "stderr",
     "output_type": "stream",
     "text": [
      "/Users/felix/Documents/Recherche/kineticstoolkit/ktk/dbinterface.py:177: UserWarning: Duplicate file(s) found. See duplicates property.\n",
      "  warnings.warn('Duplicate file(s) found. See duplicates property.')\n"
     ]
    }
   ],
   "source": [
    "project.refresh()"
   ]
  },
  {
   "cell_type": "code",
   "execution_count": 21,
   "metadata": {
    "execution": {
     "iopub.execute_input": "2020-10-22T02:39:26.567954Z",
     "iopub.status.busy": "2020-10-22T02:39:26.566710Z",
     "iopub.status.idle": "2020-10-22T02:39:26.580041Z",
     "shell.execute_reply": "2020-10-22T02:39:26.581902Z"
    }
   },
   "outputs": [
    {
     "data": {
      "text/plain": [
       "[('data/dbinterface/FC_XX18A/synchronized_files/kinematics3_dbfid6685n.c3d',\n",
       "  'data/dbinterface/FC_XX18A/kinematics3_dbfid6685n.c3d'),\n",
       " ('data/dbinterface/FC_XX18A/synchronized_files/kinematics2_dbfid6683n.c3d',\n",
       "  'data/dbinterface/FC_XX18A/kinematics2_dbfid6683n.c3d'),\n",
       " ('data/dbinterface/FC_XX18A/synchronized_files/kinematics4_dbfid6687n.c3d',\n",
       "  'data/dbinterface/FC_XX18A/kinematics4_dbfid6687n.c3d'),\n",
       " ('data/dbinterface/FC_XX18A/synchronized_files/kinematics1_dbfid6681n.c3d',\n",
       "  'data/dbinterface/FC_XX18A/kinematics1_dbfid6681n.c3d')]"
      ]
     },
     "execution_count": 1,
     "metadata": {},
     "output_type": "execute_result"
    }
   ],
   "source": [
    "project.duplicates"
   ]
  },
  {
   "cell_type": "markdown",
   "metadata": {},
   "source": [
    "Therefore we need to assign new dbfids to the files we just synchronized, so that they refer to ``SyncedKinematics`` entries in BIOMEC. The method ``batch_fix_file_type`` will help."
   ]
  },
  {
   "cell_type": "code",
   "execution_count": 22,
   "metadata": {
    "execution": {
     "iopub.execute_input": "2020-10-22T02:39:26.605438Z",
     "iopub.status.busy": "2020-10-22T02:39:26.603884Z",
     "iopub.status.idle": "2020-10-22T02:39:26.758831Z",
     "shell.execute_reply": "2020-10-22T02:39:26.760372Z"
    }
   },
   "outputs": [
    {
     "data": {
      "text/plain": [
       "{\n",
       "               'Ignore': <list of 0 items>,\n",
       "      'NoFileTypeLabel': <list of 0 items>,\n",
       "               'Rename': <list of 4 items>\n",
       "}"
      ]
     },
     "execution_count": 1,
     "metadata": {},
     "output_type": "execute_result"
    }
   ],
   "source": [
    "project.batch_fix_file_type(root_folder + '/synchronized_files',\n",
    "                            'SyncedKinematics',\n",
    "                            create_file_entries=True,\n",
    "                            dry_run=False)"
   ]
  },
  {
   "cell_type": "markdown",
   "metadata": {},
   "source": [
    "Now let see what happened in the ``synchronized_files`` folder:"
   ]
  },
  {
   "cell_type": "code",
   "execution_count": 23,
   "metadata": {
    "execution": {
     "iopub.execute_input": "2020-10-22T02:39:26.769056Z",
     "iopub.status.busy": "2020-10-22T02:39:26.767424Z",
     "iopub.status.idle": "2020-10-22T02:39:26.773563Z",
     "shell.execute_reply": "2020-10-22T02:39:26.775154Z"
    }
   },
   "outputs": [
    {
     "data": {
      "text/plain": [
       "['kinematics4_dbfid11526n.c3d',\n",
       " 'kinematics1_dbfid11524n.c3d',\n",
       " 'kinematics3_dbfid8491n.c3d',\n",
       " 'kinematics2_dbfid11525n.c3d']"
      ]
     },
     "execution_count": 1,
     "metadata": {},
     "output_type": "execute_result"
    }
   ],
   "source": [
    "os.listdir(root_folder + '/synchronized_files')"
   ]
  },
  {
   "cell_type": "markdown",
   "metadata": {},
   "source": [
    "The files' dbfid have been updated so they now refer to ``SyncedKinematics`` and not to ``Kinematics`` anymore. Moreover, the project does not have duplicate dbfids anymore:"
   ]
  },
  {
   "cell_type": "code",
   "execution_count": 24,
   "metadata": {
    "execution": {
     "iopub.execute_input": "2020-10-22T02:39:26.784610Z",
     "iopub.status.busy": "2020-10-22T02:39:26.782748Z",
     "iopub.status.idle": "2020-10-22T02:39:26.943221Z",
     "shell.execute_reply": "2020-10-22T02:39:26.944425Z"
    }
   },
   "outputs": [],
   "source": [
    "project.refresh()"
   ]
  },
  {
   "cell_type": "markdown",
   "metadata": {},
   "source": [
    "Let's do a little clean up before going on."
   ]
  },
  {
   "cell_type": "code",
   "execution_count": 25,
   "metadata": {
    "execution": {
     "iopub.execute_input": "2020-10-22T02:39:26.953818Z",
     "iopub.status.busy": "2020-10-22T02:39:26.952309Z",
     "iopub.status.idle": "2020-10-22T02:39:27.095451Z",
     "shell.execute_reply": "2020-10-22T02:39:27.096853Z"
    }
   },
   "outputs": [],
   "source": [
    "shutil.rmtree(root_folder + '/synchronized_files')\n",
    "project.refresh()"
   ]
  },
  {
   "cell_type": "markdown",
   "metadata": {},
   "source": [
    "Including information in file names\n",
    "-----------------------------------\n",
    "It can be difficult to deal with a bunch of numbered files without knowing their signification without looking in BIOMEC. The ``tag_files`` method allows adding the trial name to the file names, so that their context is a bit clearer and less error-prone."
   ]
  },
  {
   "cell_type": "code",
   "execution_count": 26,
   "metadata": {
    "execution": {
     "iopub.execute_input": "2020-10-22T02:39:27.104632Z",
     "iopub.status.busy": "2020-10-22T02:39:27.103322Z",
     "iopub.status.idle": "2020-10-22T02:39:27.109091Z",
     "shell.execute_reply": "2020-10-22T02:39:27.110119Z"
    }
   },
   "outputs": [
    {
     "data": {
      "text/plain": [
       "['kinetics_dbfid6688n.csv',\n",
       " 'kinematics3_dbfid6685n.c3d',\n",
       " 'kinetics_dbfid6684n.csv',\n",
       " '.DS_Store',\n",
       " 'kinetics_dbfid6682n.csv',\n",
       " 'kinematics2_dbfid6683n.c3d',\n",
       " 'kinematics4_dbfid6687n.c3d',\n",
       " 'kinetics_dbfid6686n.csv',\n",
       " 'kinematics1_dbfid6681n.c3d']"
      ]
     },
     "execution_count": 1,
     "metadata": {},
     "output_type": "execute_result"
    }
   ],
   "source": [
    "os.listdir(root_folder)"
   ]
  },
  {
   "cell_type": "markdown",
   "metadata": {},
   "source": [
    "Include the trial name in the file names:"
   ]
  },
  {
   "cell_type": "code",
   "execution_count": 27,
   "metadata": {
    "execution": {
     "iopub.execute_input": "2020-10-22T02:39:27.116745Z",
     "iopub.status.busy": "2020-10-22T02:39:27.115487Z",
     "iopub.status.idle": "2020-10-22T02:39:27.379030Z",
     "shell.execute_reply": "2020-10-22T02:39:27.380130Z"
    }
   },
   "outputs": [
    {
     "name": "stdout",
     "output_type": "stream",
     "text": [
      "Checking that the project is clean, without duplicates...\n",
      "Renaming the files...\n",
      "Refreshing project...\n"
     ]
    },
    {
     "data": {
      "text/plain": [
       "['kinematics1_dbfid6681n_{Run1}.c3d',\n",
       " 'kinetics_dbfid6682n_{Run1}.csv',\n",
       " '.DS_Store',\n",
       " 'kinematics4_dbfid6687n_{Walk2}.c3d',\n",
       " 'kinematics3_dbfid6685n_{Walk1}.c3d',\n",
       " 'kinematics2_dbfid6683n_{Run2}.c3d',\n",
       " 'kinetics_dbfid6688n_{Walk2}.csv',\n",
       " 'kinetics_dbfid6684n_{Run2}.csv',\n",
       " 'kinetics_dbfid6686n_{Walk1}.csv']"
      ]
     },
     "execution_count": 1,
     "metadata": {},
     "output_type": "execute_result"
    }
   ],
   "source": [
    "project.tag_files(include_trial_name=True, dry_run=False)\n",
    "\n",
    "os.listdir(root_folder)"
   ]
  },
  {
   "cell_type": "markdown",
   "metadata": {},
   "source": [
    "Remove the trial name from the file names:"
   ]
  },
  {
   "cell_type": "code",
   "execution_count": 28,
   "metadata": {
    "execution": {
     "iopub.execute_input": "2020-10-22T02:39:27.387447Z",
     "iopub.status.busy": "2020-10-22T02:39:27.386040Z",
     "iopub.status.idle": "2020-10-22T02:39:27.737801Z",
     "shell.execute_reply": "2020-10-22T02:39:27.739015Z"
    }
   },
   "outputs": [
    {
     "name": "stdout",
     "output_type": "stream",
     "text": [
      "Checking that the project is clean, without duplicates...\n",
      "Renaming the files...\n",
      "Refreshing project...\n"
     ]
    },
    {
     "data": {
      "text/plain": [
       "['kinetics_dbfid6688n.csv',\n",
       " 'kinematics3_dbfid6685n.c3d',\n",
       " 'kinetics_dbfid6684n.csv',\n",
       " '.DS_Store',\n",
       " 'kinetics_dbfid6682n.csv',\n",
       " 'kinematics2_dbfid6683n.c3d',\n",
       " 'kinematics4_dbfid6687n.c3d',\n",
       " 'kinetics_dbfid6686n.csv',\n",
       " 'kinematics1_dbfid6681n.c3d']"
      ]
     },
     "execution_count": 1,
     "metadata": {},
     "output_type": "execute_result"
    }
   ],
   "source": [
    "project.tag_files(include_trial_name=False, dry_run=False)\n",
    "\n",
    "os.listdir(root_folder)"
   ]
  },
  {
   "cell_type": "markdown",
   "metadata": {},
   "source": [
    "For more information on DBInterface, please check the [API Reference](api/ktk.dbinterface.rst)."
   ]
  }
 ],
 "metadata": {
  "kernelspec": {
   "display_name": "Python 3",
   "language": "python",
   "name": "python3"
  },
  "language_info": {
   "codemirror_mode": {
    "name": "ipython",
    "version": 3
   },
   "file_extension": ".py",
   "mimetype": "text/x-python",
   "name": "python",
   "nbconvert_exporter": "python",
   "pygments_lexer": "ipython3",
   "version": "3.8.6"
  }
 },
 "nbformat": 4,
 "nbformat_minor": 4
}
