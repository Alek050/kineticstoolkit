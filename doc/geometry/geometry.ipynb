{
 "cells": [
  {
   "cell_type": "markdown",
   "metadata": {},
   "source": [
    "Rigid body geometry\n",
    "===================\n",
    "\n",
    "The [geometry](../api/kineticstoolkit.geometry.rst) module simplifies the calculation of linear algebric operations on series of points, vectors and transformation matrices.\n",
    "\n",
    "In this tutorial, we will do a quick starter on what is a reference frame and its relation with rigid transformation matrices, how to express and navigate between reference frames and local/global coordinates, and how to extract rotation angles from a series of transformation matrices."
   ]
  },
  {
   "cell_type": "markdown",
   "metadata": {
    "nbsphinx-toctree": {}
   },
   "source": [
    "* [What is a reference frame](what_is_a_reference_frame)\n",
    "* [Kinetics Toolkit's dimension conventions](dimension_convention)\n",
    "* [Creating and navigating between reference frames](reference_frame)\n",
    "* [Converting between transformation matrices and Euler angles](euler_angles)"
   ]
  },
  {
   "cell_type": "markdown",
   "metadata": {},
   "source": [
    "For more information on geometry, please check the [API Reference for the geometry module](../api/kineticstoolkit.geometry.rst)."
   ]
  }
 ],
 "metadata": {
  "kernelspec": {
   "display_name": "Python 3",
   "language": "python",
   "name": "python3"
  },
  "language_info": {
   "codemirror_mode": {
    "name": "ipython",
    "version": 3
   },
   "file_extension": ".py",
   "mimetype": "text/x-python",
   "name": "python",
   "nbconvert_exporter": "python",
   "pygments_lexer": "ipython3",
   "version": "3.8.6"
  }
 },
 "nbformat": 4,
 "nbformat_minor": 4
}