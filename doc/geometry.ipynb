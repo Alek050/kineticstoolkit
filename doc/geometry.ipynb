{
 "cells": [
  {
   "cell_type": "markdown",
   "metadata": {},
   "source": [
    "Rigid transformations, coordinates and reference frames\n",
    "=======================================================\n",
    "\n",
    ".. warning:: This module is in development and has not been released.\n",
    "\n",
    "The [geometry](api/kineticstoolkit.geometry.rst) module simplifies the calculation of linear algebric operations on\n",
    "series of points, vectors and transformation matrices. Contrarily to most other modules, this module does not work\n",
    "with TimeSeries directly, but instead with the TimeSeries data. The convention for dimension order is strict but\n",
    "well defined.\n",
    "\n",
    "Dimension convention\n",
    "--------------------\n",
    "\n",
    "In this module, every point, vector or matrix is considered as a **series**, even constants which are series of 1. The dimensions of these series are:\n",
    "\n",
    "- Dimension 0 = time (length of m). Constants are expressed as series with m = 1 and are broadcasted to match other series with m > 1.\n",
    "\n",
    "- Dimension 1 (optional) = axis or row (length of 4).\n",
    "\n",
    "- Dimension 2 (optional) = point/vector index or column (length of n).\n",
    "\n",
    "To understand better how to express series of scalars, vectors, points, sets and matrices, please refer to the following pictures:\n",
    "\n",
    "### Series of scalars ###\n",
    "\n",
    "![Series of m scalars](_static/geometry/series_of_m_scalars.png){ width=400px }\n",
    "\n",
    "### Series of vectors and points ###\n",
    "\n",
    "![Series of m vectors](_static/geometry/series_of_m_vectors.png){ width=400px } ![Series of m points](_static/geometry/series_of_m_points.png){ width=400px }\n",
    "\n",
    "Note the difference between vectors and points: vectors (e.g., forces, velocities) have zeros as their fourth coordinate while points (e.g., marker coordinates) have ones. This difference has an impact on algeabric calculation:\n",
    "\n",
    "- A rigid transformation of a vector gives a new rotated vector expressed as a new orientation and amplitude.\n",
    "- A rigid transformation on a point yields a translated point expressed as its new coordinates in the new reference frame.\n",
    "\n",
    "### Series of sets of vectors or points ###\n",
    "\n",
    "![Series of m sets of n vectors](_static/geometry/series_of_m_sets_of_n_vectors.png){ width=400px } ![Series of m sets of n points](_static/geometry/series_of_m_sets_of_n_points.png){ width=400px }\n",
    "\n",
    "### Series of transformation matrices ###\n",
    "\n",
    "![Series of m transformation matrices](_static/geometry/series_of_m_transformation_matrices.png){ width=500px }\n",
    "\n",
    "### Working with constants ###\n",
    "\n",
    "As a reminder, in the geometry module, everything is considered as a series. Therefore, always ensure that the first dimension of any array is reserved to time. For example, the vector (x = 1, y = 2, z = 3) must be expressed as `np.array([[1.0, 2.0, 3.0, 0.0]])` (note the double brackets). A common error would be to express it as `np.array([1.0, 2.0, 3.0, 0.0])` (single brackets), which would mean a series of 4 floats instead of one constant vector."
   ]
  },
  {
   "cell_type": "code",
   "execution_count": 1,
   "metadata": {},
   "outputs": [],
   "source": [
    "import kineticstoolkit.lab as ktk\n",
    "import numpy as np"
   ]
  },
  {
   "cell_type": "markdown",
   "metadata": {},
   "source": [
    "Matrix multiplication\n",
    "-------------------------\n",
    "\n",
    "To facilitate the multiplication of series, kineticstoolkit.geometry provides a `matmul` function that matches both matrices' time dimensions before applying the numpy's @ or * operator accordingly on each time iteration. Therefore, when dealing with series of floats, vectors, points or matrices, it is advisable to use kineticstoolkit.geometry's `matmul` instead of the @ operator, which will garranty to follow Kinetics Toolkit's array convention. For example:\n",
    "\n",
    "**Matrix multiplication between a matrix and a series of points**"
   ]
  },
  {
   "cell_type": "code",
   "execution_count": 16,
   "metadata": {},
   "outputs": [
    {
     "data": {
      "text/plain": [
       "array([[0., 1., 0., 1.],\n",
       "       [1., 1., 0., 1.],\n",
       "       [2., 1., 0., 1.]])"
      ]
     },
     "execution_count": 16,
     "metadata": {},
     "output_type": "execute_result"
    }
   ],
   "source": [
    "# A single rigid transformation matrix\n",
    "T = np.array([[[1, 0, 0, 0],\n",
    "               [0, 1, 0, 0],\n",
    "               [0, 0, 1, 0],\n",
    "               [0, 0, 0, 1]]])\n",
    "\n",
    "# times a series of 3 points\n",
    "points = np.array([[0, 1, 0, 1],\n",
    "                   [1, 1, 0, 1],\n",
    "                   [2, 1, 0, 1]])\n",
    "\n",
    "ktk.geometry.matmul(T, points)  # gives a series of 3 points"
   ]
  },
  {
   "cell_type": "markdown",
   "metadata": {},
   "source": [
    "**Multiplication between a series of floats and a series of vectors**"
   ]
  },
  {
   "cell_type": "code",
   "execution_count": 17,
   "metadata": {},
   "outputs": [
    {
     "data": {
      "text/plain": [
       "array([[0. , 0. , 0. , 0. ],\n",
       "       [0.5, 0.5, 0. , 0. ],\n",
       "       [2. , 1. , 0. , 0. ]])"
      ]
     },
     "execution_count": 17,
     "metadata": {},
     "output_type": "execute_result"
    }
   ],
   "source": [
    "# A series of 3 floats\n",
    "floats = np.array([0., 0.5, 1.])\n",
    "\n",
    "# times a series of 3 vectors\n",
    "vectors = np.array([[0, 1, 0, 0],\n",
    "                    [1, 1, 0, 0],\n",
    "                    [2, 1, 0, 0]])\n",
    "\n",
    "ktk.geometry.matmul(floats, vectors)  # gives a series of 3 vectors"
   ]
  },
  {
   "cell_type": "markdown",
   "metadata": {},
   "source": [
    "**Dot product between a series of points and a single point**"
   ]
  },
  {
   "cell_type": "code",
   "execution_count": 18,
   "metadata": {},
   "outputs": [
    {
     "data": {
      "text/plain": [
       "array([4., 6., 8.])"
      ]
     },
     "execution_count": 18,
     "metadata": {},
     "output_type": "execute_result"
    }
   ],
   "source": [
    "# A series of 3 points\n",
    "points = np.array([[0, 1, 0, 1],\n",
    "                   [1, 1, 0, 1],\n",
    "                   [2, 1, 0, 1]])\n",
    "\n",
    "# times a single point\n",
    "point = np.array([[2, 3, 4, 1]])\n",
    "\n",
    "ktk.geometry.matmul(points, point)  # gives a series of 3 scalars"
   ]
  },
  {
   "cell_type": "markdown",
   "metadata": {},
   "source": [
    "Creating series of rotation matrices\n",
    "------------------------------------\n",
    "The function `kineticstoolkit.geometry.create_rotation_matrices` allows creating series of Nx4x4 matrices around a given axis. For example, this command creates a rotation matrix of 90 degrees around the x axis. Note that the angle argument is a list or an array, to comply with the `kineticstoolkit.geometry`'s convention above."
   ]
  },
  {
   "cell_type": "code",
   "execution_count": 5,
   "metadata": {},
   "outputs": [
    {
     "data": {
      "text/plain": [
       "array([[[ 1.,  0.,  0.,  0.],\n",
       "        [ 0.,  0., -1.,  0.],\n",
       "        [ 0.,  1.,  0.,  0.],\n",
       "        [ 0.,  0.,  0.,  1.]]])"
      ]
     },
     "execution_count": 5,
     "metadata": {},
     "output_type": "execute_result"
    }
   ],
   "source": [
    "ktk.geometry.create_rotation_matrices('x', [np.pi/2])"
   ]
  },
  {
   "cell_type": "markdown",
   "metadata": {},
   "source": [
    "As another example, this will create a series of 100 rotation matrices around the z axis, from 0 to\n",
    "360 degrees:"
   ]
  },
  {
   "cell_type": "code",
   "execution_count": 6,
   "metadata": {},
   "outputs": [
    {
     "data": {
      "text/plain": [
       "array([[[ 1.        , -0.        ,  0.        ,  0.        ],\n",
       "        [ 0.        ,  1.        ,  0.        ,  0.        ],\n",
       "        [ 0.        ,  0.        ,  1.        ,  0.        ],\n",
       "        [ 0.        ,  0.        ,  0.        ,  1.        ]],\n",
       "\n",
       "       [[ 0.99798668, -0.06342392,  0.        ,  0.        ],\n",
       "        [ 0.06342392,  0.99798668,  0.        ,  0.        ],\n",
       "        [ 0.        ,  0.        ,  1.        ,  0.        ],\n",
       "        [ 0.        ,  0.        ,  0.        ,  1.        ]],\n",
       "\n",
       "       [[ 0.99195481, -0.12659245,  0.        ,  0.        ],\n",
       "        [ 0.12659245,  0.99195481,  0.        ,  0.        ],\n",
       "        [ 0.        ,  0.        ,  1.        ,  0.        ],\n",
       "        [ 0.        ,  0.        ,  0.        ,  1.        ]],\n",
       "\n",
       "       ...,\n",
       "\n",
       "       [[ 0.99195481,  0.12659245,  0.        ,  0.        ],\n",
       "        [-0.12659245,  0.99195481,  0.        ,  0.        ],\n",
       "        [ 0.        ,  0.        ,  1.        ,  0.        ],\n",
       "        [ 0.        ,  0.        ,  0.        ,  1.        ]],\n",
       "\n",
       "       [[ 0.99798668,  0.06342392,  0.        ,  0.        ],\n",
       "        [-0.06342392,  0.99798668,  0.        ,  0.        ],\n",
       "        [ 0.        ,  0.        ,  1.        ,  0.        ],\n",
       "        [ 0.        ,  0.        ,  0.        ,  1.        ]],\n",
       "\n",
       "       [[ 1.        ,  0.        ,  0.        ,  0.        ],\n",
       "        [-0.        ,  1.        ,  0.        ,  0.        ],\n",
       "        [ 0.        ,  0.        ,  1.        ,  0.        ],\n",
       "        [ 0.        ,  0.        ,  0.        ,  1.        ]]])"
      ]
     },
     "execution_count": 6,
     "metadata": {},
     "output_type": "execute_result"
    }
   ],
   "source": [
    "ktk.geometry.create_rotation_matrices('z', np.linspace(0, 2 * np.pi, 100))"
   ]
  },
  {
   "cell_type": "markdown",
   "metadata": {},
   "source": [
    "Creating series of reference frames\n",
    "-----------------------\n",
    "Let's say we have the position of three markers, and we want to create a reference frame based on these markers. This is the aim of the `create_reference_frames` function.\n",
    "\n",
    "If the markers are at these positions (0, 0, 0), (1, 0, 0) and (0, 1, 0):"
   ]
  },
  {
   "cell_type": "code",
   "execution_count": 7,
   "metadata": {},
   "outputs": [],
   "source": [
    "global_markers = np.array(\n",
    "    [[[0., 1., 0.],\n",
    "      [0., 0., 1.],\n",
    "      [0., 0., 0.],\n",
    "      [1., 1., 1.]]])"
   ]
  },
  {
   "cell_type": "markdown",
   "metadata": {},
   "source": [
    "Now we can create a reference frame based on these three markers. Please consult the [API reference](api/kineticstoolkit.geometry.rst) for the different marker configurations available for the creation of reference frames."
   ]
  },
  {
   "cell_type": "code",
   "execution_count": 8,
   "metadata": {},
   "outputs": [
    {
     "data": {
      "text/plain": [
       "array([[[-0.70710678,  0.70710678,  0.        ,  0.33333333],\n",
       "        [-0.70710678, -0.70710678,  0.        ,  0.33333333],\n",
       "        [ 0.        ,  0.        ,  1.        ,  0.        ],\n",
       "        [ 0.        ,  0.        ,  0.        ,  1.        ]]])"
      ]
     },
     "execution_count": 8,
     "metadata": {},
     "output_type": "execute_result"
    }
   ],
   "source": [
    "T = ktk.geometry.create_reference_frames(global_markers)\n",
    "\n",
    "T"
   ]
  },
  {
   "cell_type": "markdown",
   "metadata": {},
   "source": [
    "Calculating local coordinates\n",
    "---------------------\n",
    "We now have a reference frame defined from three markers. If we are interested to know the local position of these markers in the new-created frame, we can use the function `get_local_coordinates`."
   ]
  },
  {
   "cell_type": "code",
   "execution_count": 9,
   "metadata": {},
   "outputs": [
    {
     "data": {
      "text/plain": [
       "array([[[ 0.47140452, -0.23570226, -0.23570226],\n",
       "        [ 0.        ,  0.70710678, -0.70710678],\n",
       "        [ 0.        ,  0.        ,  0.        ],\n",
       "        [ 1.        ,  1.        ,  1.        ]]])"
      ]
     },
     "execution_count": 9,
     "metadata": {},
     "output_type": "execute_result"
    }
   ],
   "source": [
    "local_markers = ktk.geometry.get_local_coordinates(global_markers, T)\n",
    "\n",
    "local_markers"
   ]
  },
  {
   "cell_type": "markdown",
   "metadata": {},
   "source": [
    "Calculating global coordinates\n",
    "----------------------\n",
    "In the case we have the markers' local coordinates and we would like to express these markers in the global reference frame, we would use the mirror function `get_global_coordinates`."
   ]
  },
  {
   "cell_type": "code",
   "execution_count": 10,
   "metadata": {},
   "outputs": [
    {
     "data": {
      "text/plain": [
       "array([[[0., 1., 0.],\n",
       "        [0., 0., 1.],\n",
       "        [0., 0., 0.],\n",
       "        [1., 1., 1.]]])"
      ]
     },
     "execution_count": 10,
     "metadata": {},
     "output_type": "execute_result"
    }
   ],
   "source": [
    "ktk.geometry.get_global_coordinates(local_markers, T)"
   ]
  },
  {
   "cell_type": "markdown",
   "metadata": {},
   "source": [
    "in which case the results is effectively the global points as we defined them at the beginning."
   ]
  },
  {
   "cell_type": "markdown",
   "metadata": {},
   "source": [
    "For more information on geometry, please check the [API Reference for the geometry module](api/kineticstoolkit.geometry.rst)."
   ]
  }
 ],
 "metadata": {
  "kernelspec": {
   "display_name": "Python 3",
   "language": "python",
   "name": "python3"
  },
  "language_info": {
   "codemirror_mode": {
    "name": "ipython",
    "version": 3
   },
   "file_extension": ".py",
   "mimetype": "text/x-python",
   "name": "python",
   "nbconvert_exporter": "python",
   "pygments_lexer": "ipython3",
   "version": "3.8.6"
  }
 },
 "nbformat": 4,
 "nbformat_minor": 4
}
