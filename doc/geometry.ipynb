{
 "cells": [
  {
   "cell_type": "markdown",
   "metadata": {},
   "source": [
    "Rigid transformations, coordinates and reference frames\n",
    "=======================================================\n",
    "\n",
    "The [geometry](api/kineticstoolkit.geometry.rst) module simplifies the calculation of linear algebric operations on\n",
    "series of points, vectors and transformation matrices. Contrarily to most other modules, this module does not work\n",
    "with TimeSeries directly, but instead with the TimeSeries data. The convention for dimension order is strict but\n",
    "well defined.\n",
    "\n",
    "Dimension convention\n",
    "--------------------\n",
    "\n",
    "In this module, every point, vector or matrix is considered as a **series**, even constants which are series of 1. The dimensions of these series are:\n",
    "\n",
    "- Dimension 0 = time (length of m). Constants are expressed as series with m = 1 and are broadcasted to match other series with m > 1.\n",
    "\n",
    "- Dimension 1 (optional) = axis or row (length of 4).\n",
    "\n",
    "- Dimension 2 (optional) = point/vector index or column (length of n).\n",
    "\n",
    "To understand better how to express series of scalars, vectors, points, sets and matrices, please refer to the following pictures:\n",
    "\n",
    "### Series of scalars ###\n",
    "\n",
    "![Series of m scalars](_static/geometry/series_of_m_scalars.png){ width=400px }\n",
    "\n",
    "### Series of vectors and points ###\n",
    "\n",
    "![Series of m vectors](_static/geometry/series_of_m_vectors.png){ width=400px } ![Series of m points](_static/geometry/series_of_m_points.png){ width=400px }\n",
    "\n",
    "Note the difference between vectors and points: vectors (e.g., forces, velocities) have zeros as their fourth coordinate while points (e.g., marker coordinates) have ones. This difference has an impact on algeabric calculation:\n",
    "\n",
    "- A rigid transformation of a vector gives a new rotated vector expressed as a new orientation and amplitude.\n",
    "- A rigid transformation on a point yields a translated point expressed as its new coordinates in the new reference frame.\n",
    "\n",
    "### Series of groups of vectors or points ###\n",
    "\n",
    "![Series of m groups of n vectors](_static/geometry/series_of_m_groups_of_n_vectors.png){ width=400px } ![Series of m groups of n points](_static/geometry/series_of_m_groups_of_n_points.png){ width=400px }\n",
    "\n",
    "### Series of transformation matrices ###\n",
    "\n",
    "![Series of m transformation matrices](_static/geometry/series_of_m_transformation_matrices.png){ width=500px }\n",
    "\n",
    "### Working with constants ###\n",
    "\n",
    "Since everything in the `geometry` module is considered as a series, always ensure that the first dimension of any array is reserved to time. For example, the vector (x = 1, y = 2, z = 3) must be expressed as `np.array([[1.0, 2.0, 3.0, 0.0]])` (note the double brackets). A common error would be to express it as `np.array([1.0, 2.0, 3.0, 0.0])` (single brackets), which would mean a series of 4 floats instead of one constant vector.\n",
    "\n",
    "A quick way to convert a constant array to a series is to use numpy's `newaxis`:"
   ]
  },
  {
   "cell_type": "code",
   "execution_count": null,
   "metadata": {},
   "outputs": [],
   "source": [
    "import kineticstoolkit.lab as ktk\n",
    "import numpy as np\n",
    "\n",
    "one_matrix = np.eye(4)\n",
    "one_matrix"
   ]
  },
  {
   "cell_type": "code",
   "execution_count": null,
   "metadata": {},
   "outputs": [],
   "source": [
    "series_of_one_matrix = one_matrix[np.newaxis]\n",
    "series_of_one_matrix"
   ]
  },
  {
   "cell_type": "markdown",
   "metadata": {},
   "source": [
    "Matrix multiplication\n",
    "-------------------------\n",
    "\n",
    "To facilitate the multiplication of series, kineticstoolkit.geometry provides a `matmul` function that matches both matrices' time dimensions before applying the numpy's @ or * operator accordingly on each time iteration. Therefore, when dealing with series of floats, vectors, points or matrices, it is advisable to use kineticstoolkit.geometry's `matmul` instead of the @ operator, which will garranty to follow Kinetics Toolkit's array convention. For example among others:\n",
    "\n",
    "**Matrix multiplication between a matrix and a series of points**"
   ]
  },
  {
   "cell_type": "code",
   "execution_count": null,
   "metadata": {},
   "outputs": [],
   "source": [
    "# A single rigid transformation matrix that translates 3 units in x\n",
    "T = np.array([[[1., 0., 0., 3.],\n",
    "               [0., 1., 0., 0.],\n",
    "               [0., 0., 1., 0.],\n",
    "               [0., 0., 0., 1.]]])\n",
    "\n",
    "# times a series of 5 points\n",
    "points = np.array([[0., 1., 0., 1.],\n",
    "                   [1., 1., 0., 1.],\n",
    "                   [2., 1., 0., 1.],\n",
    "                   [3., 1., 0., 1.],\n",
    "                   [4., 1., 0., 1.]])\n",
    "\n",
    "ktk.geometry.matmul(T, points)  # gives a series of 5 points"
   ]
  },
  {
   "cell_type": "markdown",
   "metadata": {},
   "source": [
    "**Multiplication between a series of floats and a series of vectors**"
   ]
  },
  {
   "cell_type": "code",
   "execution_count": null,
   "metadata": {},
   "outputs": [],
   "source": [
    "# A series of 5 floats\n",
    "floats = np.array([0., 0.5, 1., 1., 1.])\n",
    "\n",
    "# times a series of 5 vectors\n",
    "vectors = np.array([[0., 1., 0., 0.],\n",
    "                    [1., 1., 0., 0.],\n",
    "                    [2., 1., 0., 0.],\n",
    "                    [3., 1., 0., 0.],\n",
    "                    [4., 1., 0., 0.]])\n",
    "\n",
    "ktk.geometry.matmul(floats, vectors)  # gives a series of 5 vectors"
   ]
  },
  {
   "cell_type": "markdown",
   "metadata": {},
   "source": [
    "Series of rotations\n",
    "------------------------------------\n",
    "\n",
    "The [geometry](api/kineticstoolkit.geometry.rst) module provides two functions for manipulating series of rotations:\n",
    "\n",
    "- [create_rotation_matrices](api/kineticstoolkit.geometry.rst#kineticstoolkit.geometry.create_rotation_matrices): A wrapper to `scipy.transform.Rotation.from_euler` that creates Nx4x4 series rigid transformations based on rotation axes and angles.\n",
    "- [get_euler_angles](api/kineticstoolkit.geometry.rst#kineticstoolkit.geometry.create_rotation_matrices): A wrapper to `scipy.transform.Rotation.as_euler` that extracts Euler angles from Nx4x4 series of rigid transformations."
   ]
  },
  {
   "cell_type": "markdown",
   "metadata": {},
   "source": [
    "Series of reference frames\n",
    "-----------------------\n",
    "\n",
    "![Right humerus reference frame](_static/geometry/humerus_reference_frame.png){ width=200px }\n",
    "\n",
    "\n",
    "The [geometry](api/kineticstoolkit.geometry.rst) module provides the [create_reference_frames](api/kineticstoolkit.geometry.rst#kineticstoolkit.geometry.create_reference_frames) function to generate series of reference frames based on marker positions.\n",
    "\n",
    "In this example, we will create the series of N rigid transformations that corresponds to the 3d position and orientation of the right humerus, based on three markers:\n",
    "\n",
    "- GH: the Nx4 trajectory of the gleno-humeral joint;\n",
    "- EL: the Nx4 trajectory of the lateral elbow epicondyle;\n",
    "- EM: the Nx4 trajectory of the medial elbow epicondyle.\n",
    "    \n",
    "We will follow the recommendations of the International Society of Biomechanics [1]:\n",
    "\n",
    "1. **The origin is GH**;\n",
    "\n",
    "    ```origin = GH```\n",
    "\n",
    "2. **The y axis is the line between GH and the midpoint of EL and EM, pointing to GH**;\n",
    "\n",
    "    ```y = GH - (EL + EM) / 2```\n",
    "\n",
    "3. **The x axis is the normal to the GH-EL-EM plane, pointing forward**;\n",
    "\n",
    "    We define the yz plane (in yellow) by a second vector (in yellow) that is in this plane.\n",
    "    The x axis will then be generated by the cross product of y and yz.\n",
    "    \n",
    "    ```yz = EL - EM```\n",
    "\n",
    "4. **The z axis is perpendicular to x and y, pointing to the right**.\n",
    "\n",
    "    ```reference_frames = ktk.geometry.create_reference_frames(origin=origin, y=y, yz=yz)```\n",
    "    \n",
    "    This yields a series of rigid transformation matrices that express the humerus reference frame shown in the figure above.\n",
    "\n",
    "[1] G. Wu et al., \"ISB recommendation on definitions of joint\n",
    "       coordinate systems of various joints for the reporting of human joint\n",
    "       motion - Part II: shoulder, elbow, wrist and hand,\" Journal of\n",
    "       Biomechanics, vol. 38, no. 5, pp. 981--992, 2005.\n"
   ]
  },
  {
   "cell_type": "markdown",
   "metadata": {},
   "source": [
    "Calculating local and global coordinates\n",
    "---------------------\n",
    "Finally, the [geometry](api/kineticstoolkit.geometry.rst) module provides function to change the reference frame used to express points, vectors and matrices from local to global coordinates and vice versa:\n",
    "\n",
    "- [get_local_coordinates](api/kineticstoolkit.geometry.rst#kineticstoolkit.geometry.get_local_coordinates): Express global coordinates inside a local reference frame;\n",
    "- [get_global_coordinates](api/kineticstoolkit.geometry.rst#kineticstoolkit.geometry.get_global_coordinates): Express local coordinates in global coordinates."
   ]
  },
  {
   "cell_type": "markdown",
   "metadata": {},
   "source": [
    "For more information on geometry, please check the [API Reference for the geometry module](api/kineticstoolkit.geometry.rst)."
   ]
  }
 ],
 "metadata": {
  "kernelspec": {
   "display_name": "Python 3",
   "language": "python",
   "name": "python3"
  },
  "language_info": {
   "codemirror_mode": {
    "name": "ipython",
    "version": 3
   },
   "file_extension": ".py",
   "mimetype": "text/x-python",
   "name": "python",
   "nbconvert_exporter": "python",
   "pygments_lexer": "ipython3",
   "version": "3.8.6"
  }
 },
 "nbformat": 4,
 "nbformat_minor": 4
}
