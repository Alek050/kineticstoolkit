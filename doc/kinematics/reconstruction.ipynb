{
 "cells": [
  {
   "cell_type": "markdown",
   "metadata": {},
   "source": [
    "Reconstructing kinematics\n",
    "=========================\n",
    "\n",
    ".. warning:: This tutorial refer to functions that are still experimental and that may change behaviour and signature."
   ]
  },
  {
   "cell_type": "code",
   "execution_count": null,
   "metadata": {},
   "outputs": [],
   "source": [
    "import kineticstoolkit.lab as ktk\n",
    "import numpy as np"
   ]
  },
  {
   "cell_type": "markdown",
   "metadata": {},
   "source": [
    "### Defining rigid body configurations using a static acquisition ###\n",
    "\n",
    "One of the aims of the static trial is to have a sample where every marker is visible. We use this trial to define the rigid body configuration. A rigid body configuration is a list of markers that form a rigid body, along with their local position in the rigid body's reference frame.\n",
    "\n",
    "For this example, we will create rigid bodies for the markers triads 'ArmR' and 'ForearmR'."
   ]
  },
  {
   "cell_type": "code",
   "execution_count": null,
   "metadata": {},
   "outputs": [],
   "source": [
    "\n",
    "config = dict()                 # Will contain all configuration data.\n",
    "config['RigidBodies'] = dict()  # Will contain all rigid body configurations.\n",
    "\n",
    "# Read the static trial\n",
    "markers = ktk.kinematics.read_c3d_file(\n",
    "    ktk.config.root_folder + '/data/kinematics/sample_static.c3d')\n",
    "\n",
    "# Show this trial, just to inspect it\n",
    "player = ktk.Player(markers, zoom=2, azimuth=0.8, elevation=0.16,\n",
    "           translation=(0.2, -0.7))"
   ]
  },
  {
   "cell_type": "code",
   "execution_count": null,
   "metadata": {},
   "outputs": [],
   "source": [
    "# Create the rigid body configurations\n",
    "config['RigidBodies']['ArmR'] = ktk.kinematics.create_rigid_body_config(\n",
    "        markers, ['ArmR1', 'ArmR2', 'ArmR3'])\n",
    "\n",
    "config['RigidBodies']['ForearmR'] = ktk.kinematics.create_rigid_body_config(\n",
    "        markers, ['ForearmR1', 'ForearmR2', 'ForearmR3'])"
   ]
  },
  {
   "cell_type": "markdown",
   "metadata": {},
   "source": [
    "The probe's rigid body configuration is created manually from its specifications. Each local point is expressed relative to a reference frame that is centered at the probe's tip."
   ]
  },
  {
   "cell_type": "code",
   "execution_count": null,
   "metadata": {},
   "outputs": [],
   "source": [
    "config['RigidBodies']['Probe'] = {\n",
    "        'MarkerNames': ['Probe1', 'Probe2', 'Probe3',\n",
    "                        'Probe4', 'Probe5', 'Probe6'],\n",
    "        'LocalPoints': np.array([[\n",
    "                [2.1213,   2.1213,  2.0575,   2.1213,   1.7070,   1.7762],\n",
    "                [-15.8328, 15.8508, 16.0096,  16.1204,  -15.5780, -15.6057],\n",
    "                [86.4285,  86.4285, 130.9445, 175.4395, 175.3805, 130.8888],\n",
    "                [1000,     1000,    1000,     1000,     1000,     1000]]]\n",
    "                ) / 1000\n",
    "        }"
   ]
  },
  {
   "cell_type": "markdown",
   "metadata": {},
   "source": [
    "### Defining the virtual marker configurations based on probing acquisitions ###"
   ]
  },
  {
   "cell_type": "code",
   "execution_count": null,
   "metadata": {},
   "outputs": [],
   "source": [
    "config['VirtualMarkers'] = dict()  # Will contain all virtual marker configurations"
   ]
  },
  {
   "cell_type": "markdown",
   "metadata": {},
   "source": [
    "Since this is a repetitive operation, we will create a new function that will be called for each virtual marker:"
   ]
  },
  {
   "cell_type": "code",
   "execution_count": null,
   "metadata": {},
   "outputs": [],
   "source": [
    "def process_probing_acquisition(file_name, rigid_body_name):\n",
    "\n",
    "    # Load the markers\n",
    "    markers = ktk.kinematics.read_c3d_file(file_name)\n",
    "\n",
    "    # Calculate rigid body trajectories using these markers\n",
    "    rigid_bodies = ktk.kinematics.register_markers(markers,\n",
    "                                                   config['RigidBodies'])\n",
    "\n",
    "    # Add the marker 'ProbeTip' in markers. This is the origin of the Probe\n",
    "    # rigid body.\n",
    "    markers.data['ProbeTip'] = rigid_bodies.data['Probe'][:, :, 3]\n",
    "    markers.add_data_info('ProbeTip', 'Color', 'r')\n",
    "\n",
    "    # Create the marker configuration\n",
    "    return ktk.kinematics.create_virtual_marker_config(\n",
    "            markers, rigid_bodies, 'ProbeTip', rigid_body_name)"
   ]
  },
  {
   "cell_type": "markdown",
   "metadata": {},
   "source": [
    "Now, we can process every probing acquisition."
   ]
  },
  {
   "cell_type": "code",
   "execution_count": null,
   "metadata": {},
   "outputs": [],
   "source": [
    "config['VirtualMarkers']['AcromionR'] = process_probing_acquisition(\n",
    "    ktk.config.root_folder +\n",
    "    '/data/kinematics/sample_probing_acromion_R.c3d', 'ArmR')\n",
    "\n",
    "config['VirtualMarkers']['MedialEpicondyleR'] = process_probing_acquisition(\n",
    "    ktk.config.root_folder +\n",
    "    '/data/kinematics/sample_probing_medial_epicondyle_R.c3d', 'ArmR')\n",
    "\n",
    "config['VirtualMarkers']['OlecraneR'] = process_probing_acquisition(\n",
    "    ktk.config.root_folder + \n",
    "    '/data/kinematics/sample_probing_olecrane_R.c3d', 'ForearmR')\n",
    "\n",
    "config['VirtualMarkers']['RadialStyloidR'] = process_probing_acquisition(\n",
    "    ktk.config.root_folder + \n",
    "    '/data/kinematics/sample_probing_radial_styloid_R.c3d', 'ForearmR')\n",
    "\n",
    "config['VirtualMarkers']['UlnarStyloidR'] = process_probing_acquisition(\n",
    "    ktk.config.root_folder + \n",
    "    '/data/kinematics/sample_probing_ulnar_styloid_R.c3d', 'ForearmR')"
   ]
  },
  {
   "cell_type": "markdown",
   "metadata": {},
   "source": [
    "#### Defining segment configurations ####\n",
    "\n",
    "This step is purely for visualization. Here, we define different segments\n",
    "that will be shown in the Player."
   ]
  },
  {
   "cell_type": "code",
   "execution_count": null,
   "metadata": {},
   "outputs": [],
   "source": [
    "config['Segments'] = dict()  # Will contain all segment definitions\n",
    "\n",
    "config['Segments']['ArmR'] = {\n",
    "        'Color': [1, 0.25, 0],\n",
    "        'Links': [['AcromionR', 'MedialEpicondyleR'],\n",
    "                  ['AcromionR', 'LateralEpicondyleR'],\n",
    "                  ['AcromionR', 'OlecraneR']]\n",
    "        }\n",
    "\n",
    "config['Segments']['ForearmR'] = {\n",
    "        'Color': [1, 0.5, 0],\n",
    "        'Links': [['MedialEpicondyleR', 'RadialStyloidR'],\n",
    "                  ['MedialEpicondyleR', 'UlnarStyloidR'],\n",
    "                  ['LateralEpicondyleR', 'RadialStyloidR'],\n",
    "                  ['LateralEpicondyleR', 'UlnarStyloidR'],\n",
    "                  ['OlecraneR', 'RadialStyloidR'],\n",
    "                  ['OlecraneR', 'UlnarStyloidR'],\n",
    "                  ['UlnarStyloidR', 'RadialStyloidR']]\n",
    "        }"
   ]
  },
  {
   "cell_type": "markdown",
   "metadata": {},
   "source": [
    "Processing an experimental trial\n",
    "--------------------------------\n",
    "\n",
    "Now that we configured the rigid bodies and the virtual markers, we are ready to load an experimental trial, calculate the rigid body trajectories and recreate the virtual markers using these rigid bodies."
   ]
  },
  {
   "cell_type": "code",
   "execution_count": null,
   "metadata": {},
   "outputs": [],
   "source": [
    "# Load the markers of the experimental trial\n",
    "markers = ktk.kinematics.read_c3d_file(\n",
    "    ktk.config.root_folder + '/data/kinematics/sample_propulsion.c3d')\n",
    "\n",
    "# Show those markers in a player\n",
    "player = ktk.Player(markers, zoom=3, azimuth=0.8, elevation=0.16,\n",
    "           translation=(0.2, -0.7))\n",
    "\n",
    "player.to_html5(start_time=31, stop_time=32)"
   ]
  },
  {
   "cell_type": "code",
   "execution_count": null,
   "metadata": {},
   "outputs": [],
   "source": [
    "# Compute the rigid body trajectories\n",
    "rigid_bodies = ktk.kinematics.register_markers(markers, config['RigidBodies'])\n",
    "\n",
    "# Show those rigid bodies and markers in a player\n",
    "player = ktk.Player(markers, rigid_bodies,\n",
    "           zoom=3, azimuth=0.8, elevation=0.16, translation=(0.2, -0.7))\n",
    "\n",
    "player.to_html5(start_time=31, stop_time=32)"
   ]
  },
  {
   "cell_type": "code",
   "execution_count": null,
   "metadata": {},
   "outputs": [],
   "source": [
    "# Add the virtual markers\n",
    "\n",
    "for virtual_marker in config['VirtualMarkers']:\n",
    "    local_coordinates = config['VirtualMarkers'][virtual_marker]['LocalPoint']\n",
    "    rigid_body_name = config['VirtualMarkers'][virtual_marker]['RigidBodyName']\n",
    "    reference_frame = rigid_bodies.data[rigid_body_name]\n",
    "\n",
    "    markers.data[virtual_marker] = ktk.geometry.get_global_coordinates(\n",
    "            local_coordinates, reference_frame)\n",
    "\n",
    "    # Assign a color for these virtual markers\n",
    "    markers.add_data_info(virtual_marker, 'Color', 'c')\n",
    "\n",
    "# Show the markers and rigid bodies in a player\n",
    "player = ktk.Player(markers, rigid_bodies,\n",
    "                    zoom=3, azimuth=0.8, elevation=0.16, translation=(0.2, -0.7))\n",
    "\n",
    "player.to_html5(start_time=31, stop_time=32)"
   ]
  },
  {
   "cell_type": "code",
   "execution_count": null,
   "metadata": {},
   "outputs": [],
   "source": [
    "# Add the segments\n",
    "player = ktk.Player(markers,\n",
    "                    segments=config['Segments'],\n",
    "                    zoom=3, azimuth=0.8, elevation=0.16,\n",
    "                    translation=(0.2, -0.7))\n",
    "\n",
    "player.to_html5(start_time=31, stop_time=32)"
   ]
  },
  {
   "cell_type": "markdown",
   "metadata": {},
   "source": [
    "For more information on kinematics, please check the [API Reference for the kinematics module](../api/kineticstoolkit.kinematics.rst)."
   ]
  }
 ],
 "metadata": {
  "kernelspec": {
   "display_name": "Python 3",
   "language": "python",
   "name": "python3"
  },
  "language_info": {
   "codemirror_mode": {
    "name": "ipython",
    "version": 3
   },
   "file_extension": ".py",
   "mimetype": "text/x-python",
   "name": "python",
   "nbconvert_exporter": "python",
   "pygments_lexer": "ipython3",
   "version": "3.8.6"
  },
  "toc": {
   "base_numbering": "1",
   "nav_menu": {},
   "number_sections": true,
   "sideBar": true,
   "skip_h1_title": true,
   "title_cell": "Table of Contents",
   "title_sidebar": "Contents",
   "toc_cell": true,
   "toc_position": {
    "height": "236px",
    "left": "723px",
    "top": "66px",
    "width": "350px"
   },
   "toc_section_display": true,
   "toc_window_display": true
  },
  "toc-autonumbering": false,
  "toc-showcode": false,
  "toc-showmarkdowntxt": false,
  "toc-showtags": false
 },
 "nbformat": 4,
 "nbformat_minor": 4
}
