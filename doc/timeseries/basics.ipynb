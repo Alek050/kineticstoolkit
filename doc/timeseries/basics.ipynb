{
 "cells": [
  {
   "cell_type": "markdown",
   "metadata": {},
   "source": [
    "TimeSeries Basics\n",
    "=================\n",
    "\n",
    "TimeSeries are largely inspired by Matlab's `timeseries` and `tscollection`. Every TimeSeries contains the following attributes:\n",
    "\n",
    "- `time`: A numpy array that contains the time vector.\n",
    "- `data`: A dict where each entry is a numpy array, with the first dimension corresponding to time.\n",
    "- `events`: An optional list of events.\n",
    "- `time_info`: Metadata corresponding to time, that contains at least the time unit.\n",
    "- `data_info`: Optional metadata."
   ]
  },
  {
   "cell_type": "markdown",
   "metadata": {},
   "source": [
    "Time and Data\n",
    "-------------\n",
    "\n",
    "A TimeSeries in its simplest form contains a time vector and at least one data series. For example:"
   ]
  },
  {
   "cell_type": "code",
   "execution_count": null,
   "metadata": {},
   "outputs": [],
   "source": [
    "import kineticstoolkit.lab as ktk\n",
    "import numpy as np\n",
    "\n",
    "ts = ktk.TimeSeries()\n",
    "ts.time = np.arange(0, 10, 0.1)  # 10 seconds at 10 Hz\n",
    "ts.data['Sinus'] = np.sin(ts.time)\n",
    "\n",
    "ts"
   ]
  },
  {
   "cell_type": "code",
   "execution_count": null,
   "metadata": {},
   "outputs": [],
   "source": [
    "ts.data"
   ]
  },
  {
   "cell_type": "markdown",
   "metadata": {},
   "source": [
    "TimeSeries can be [plotted](../api/kineticstoolkit.TimeSeries.plot.rst) directly using Matplotlib:"
   ]
  },
  {
   "cell_type": "code",
   "execution_count": null,
   "metadata": {},
   "outputs": [],
   "source": [
    "ts.plot()"
   ]
  },
  {
   "cell_type": "markdown",
   "metadata": {},
   "source": [
    "A TimeSeries can contain many independent data that share a same time vector:"
   ]
  },
  {
   "cell_type": "code",
   "execution_count": null,
   "metadata": {},
   "outputs": [],
   "source": [
    "ts.data['Cosinus'] = np.cos(ts.time)\n",
    "\n",
    "ts.data"
   ]
  },
  {
   "cell_type": "code",
   "execution_count": null,
   "metadata": {},
   "outputs": [],
   "source": [
    "ts.plot()"
   ]
  },
  {
   "cell_type": "markdown",
   "metadata": {},
   "source": [
    "A TimeSeries can also contain multidimensional data, as long as the first dimension corresponds to time.\n",
    "\n",
    "\n",
    "For the rest of this tutorial, we will load a TimeSeries that contains forces and moments during manual wheelchair propulsion. These forces and moments are expressed as Nx4 series of vectors:\n",
    "\n",
    "\\begin{equation}\n",
    "\\text{Forces} = \\begin{bmatrix}\n",
    "F_x(0) & F_y(0) & F_z(0) & 0 \\\\\n",
    "F_x(1) & F_y(1) & F_z(1) & 0 \\\\\n",
    "F_x(2) & F_y(2) & F_z(2) & 0 \\\\\n",
    "... & ... & ... & ... \\\\\n",
    "F_x(N-1) & F_y(N-1) & F_z(N-1) & 0\n",
    "\\end{bmatrix}\n",
    "\\end{equation}\n",
    "\n",
    "\\begin{equation}\n",
    "\\text{Moments} = \\begin{bmatrix}\n",
    "M_x(0) & M_y(0) & M_z(0) & 0 \\\\\n",
    "M_x(1) & M_y(1) & M_z(1) & 0 \\\\\n",
    "M_x(2) & M_y(2) & M_z(2) & 0 \\\\\n",
    "... & ... & ... & ... \\\\\n",
    "M_x(N-1) & M_y(N-1) & M_z(N-1) & 0\n",
    "\\end{bmatrix}\n",
    "\\end{equation}"
   ]
  },
  {
   "cell_type": "code",
   "execution_count": null,
   "metadata": {},
   "outputs": [],
   "source": [
    "ts = ktk.load(ktk.config.root_folder + '/data/timeseries/smartwheel.ktk.zip')\n",
    "\n",
    "ts"
   ]
  },
  {
   "cell_type": "code",
   "execution_count": null,
   "metadata": {},
   "outputs": [],
   "source": [
    "ts.data"
   ]
  },
  {
   "cell_type": "code",
   "execution_count": null,
   "metadata": {},
   "outputs": [],
   "source": [
    "ts.plot()"
   ]
  },
  {
   "cell_type": "markdown",
   "metadata": {},
   "source": [
    "Metadata\n",
    "--------\n",
    "\n",
    "The `time_info` property associates metadata to the time vector. It is a dictionary where each key is the name of one metadata. By default, `time_info` includes the `Unit` metadata, which corresponds to `s`. Any other metadata can be added by adding new keys in `time_info`."
   ]
  },
  {
   "cell_type": "code",
   "execution_count": null,
   "metadata": {},
   "outputs": [],
   "source": [
    "ts.time_info"
   ]
  },
  {
   "cell_type": "markdown",
   "metadata": {},
   "source": [
    "Similarly, the `data_info` property associates metadata to data. This property is a dictionary of dictionaries, where the outer key corresponds to the data key, and the inner key is the metadata. The [TimeSeries.add_data_info()](../api/kineticstoolkit.TimeSeries.add_data_info.rst) method eases the management of `data_info`."
   ]
  },
  {
   "cell_type": "code",
   "execution_count": null,
   "metadata": {},
   "outputs": [],
   "source": [
    "ts = ts.add_data_info('Forces', 'Unit', 'N')\n",
    "ts = ts.add_data_info('Moments', 'Unit', 'Nm')\n",
    "\n",
    "ts.data_info"
   ]
  },
  {
   "cell_type": "code",
   "execution_count": null,
   "metadata": {},
   "outputs": [],
   "source": [
    "ts.data_info['Forces']"
   ]
  },
  {
   "cell_type": "markdown",
   "metadata": {},
   "source": [
    "Unless explicitly mentioned, metadata is not used for calculation and is optional. It is simply a way to clarify the data by adding information to it. Some functions however read metadata: for example, the [TimeSeries.plot()](../api/kineticstoolkit.TimeSeries.plot.rst) method looks for possible `Unit` metadata and prints it on the y axis."
   ]
  },
  {
   "cell_type": "code",
   "execution_count": null,
   "metadata": {},
   "outputs": [],
   "source": [
    "ts.plot()"
   ]
  },
  {
   "cell_type": "markdown",
   "metadata": {},
   "source": [
    "Events\n",
    "------\n",
    "\n",
    "In the figure above, we see that the TimeSeries contains cyclic data that could be characterized by events. A first spike was generated at about 4 seconds: this event corresponds to a synchronization signal that we generated by gently impacting the instrumented pushrim. Thereafter, we see a series of pushes and recoveries. We will add these events to the TimeSeries.\n",
    "\n",
    "There are several ways to edit the events of a TimeSeries:\n",
    "- Editing events manually, using the [TimeSeries.add_event()](../api/kineticstoolkit.TimeSeries.add_event.rst) and [TimeSeries.remove_event()](../api/kineticstoolkit.TimeSeries.remove_event.rst) methods;\n",
    "- Editing events interactively, using the [TimeSeries.ui_edit_events()](../api/kineticstoolkit.TimeSeries.ui_edit_events.rst) method;\n",
    "- Adding events automatically, for example using the [cycles](../cycles.rst) module that can detect cycles automatically.\n",
    "\n",
    "In this tutorial, we will add the events manually."
   ]
  },
  {
   "cell_type": "code",
   "execution_count": null,
   "metadata": {},
   "outputs": [],
   "source": [
    "ts = ts.add_event(4.35, 'sync')\n",
    "ts = ts.add_event(8.56, 'push')\n",
    "ts = ts.add_event(9.93, 'recovery')\n",
    "ts = ts.add_event(10.50, 'push')\n",
    "ts = ts.add_event(11.12, 'recovery')\n",
    "ts = ts.add_event(11.78, 'push')\n",
    "ts = ts.add_event(12.33, 'recovery')\n",
    "ts = ts.add_event(13.39, 'push')\n",
    "ts = ts.add_event(13.88, 'recovery')\n",
    "ts = ts.add_event(14.86, 'push')\n",
    "ts = ts.add_event(15.30, 'recovery')"
   ]
  },
  {
   "cell_type": "markdown",
   "metadata": {},
   "source": [
    "These 11 events are now added to the TimeSeries' list of events:"
   ]
  },
  {
   "cell_type": "code",
   "execution_count": null,
   "metadata": {},
   "outputs": [],
   "source": [
    "ts"
   ]
  },
  {
   "cell_type": "code",
   "execution_count": null,
   "metadata": {},
   "outputs": [],
   "source": [
    "ts.events"
   ]
  },
  {
   "cell_type": "markdown",
   "metadata": {},
   "source": [
    "If we plot again the TimeSeries, we can see the added events."
   ]
  },
  {
   "cell_type": "code",
   "execution_count": null,
   "metadata": {},
   "outputs": [],
   "source": [
    "ts.plot()"
   ]
  },
  {
   "cell_type": "markdown",
   "metadata": {},
   "source": [
    "### Using events to synchronize TimeSeries ###\n",
    "\n",
    "Let's see how we can make use of these events. First, the `sync` event may be set to the time origin, which could be useful to sync this TimeSeries with other instrumentation. This can be done using the [TimeSeries.sync_event()](../api/kineticstoolkit.TimeSeries.sync_event.rst) function, which shifts the TimeSeries' time and every event's time accordingly."
   ]
  },
  {
   "cell_type": "code",
   "execution_count": null,
   "metadata": {},
   "outputs": [],
   "source": [
    "ts = ts.sync_event('sync')\n",
    "ts.plot()"
   ]
  }
 ],
 "metadata": {
  "kernelspec": {
   "display_name": "Python 3 (ipykernel)",
   "language": "python",
   "name": "python3"
  },
  "language_info": {
   "codemirror_mode": {
    "name": "ipython",
    "version": 3
   },
   "file_extension": ".py",
   "mimetype": "text/x-python",
   "name": "python",
   "nbconvert_exporter": "python",
   "pygments_lexer": "ipython3",
   "version": "3.8.10"
  },
  "toc": {
   "base_numbering": "1",
   "nav_menu": {},
   "number_sections": true,
   "sideBar": true,
   "skip_h1_title": true,
   "title_cell": "Table of Contents",
   "title_sidebar": "Contents",
   "toc_cell": true,
   "toc_position": {
    "height": "236px",
    "left": "723px",
    "top": "66px",
    "width": "350px"
   },
   "toc_section_display": true,
   "toc_window_display": true
  },
  "toc-autonumbering": false,
  "toc-showcode": false,
  "toc-showmarkdowntxt": false,
  "toc-showtags": false
 },
 "nbformat": 4,
 "nbformat_minor": 4
}
