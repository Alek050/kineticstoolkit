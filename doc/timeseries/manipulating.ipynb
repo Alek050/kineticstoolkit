{
 "cells": [
  {
   "cell_type": "markdown",
   "id": "23af3f2e-d9de-4c10-ba32-a2a21f48dab8",
   "metadata": {},
   "source": [
    "Manipulating TimeSeries\n",
    "=======================\n",
    "\n",
    "The TimeSeries come with various method to copy, split, extract or combine data:\n",
    "\n",
    "- [TimeSeries.copy()](../api/kineticstoolkit.TimeSeries.copy.rst) to make a deep copy of a TimeSeries;\n",
    "- [TimeSeries.get_subset()](../api/kineticstoolkit.TimeSeries.get_subset.rst) to make a deep copy of a TimeSeries, but only with a selected subset of data;\n",
    "- [TimeSeries.merge()](../api/kineticstoolkit.TimeSeries.merge.rst) to merge two TimeSeries with a same time vector together;\n",
    "- [TimeSeries.get_ts_before_index()](../api/kineticstoolkit.TimeSeries.get_ts_before_index.rst),\n",
    "  [TimeSeries.get_ts_after_index()](../api/kineticstoolkit.TimeSeries.get_ts_after_index.rst),\n",
    "  [TimeSeries.get_ts_between_indexes()](../api/kineticstoolkit.TimeSeries.get_ts_between_indexes.rst),\n",
    "  [TimeSeries.get_ts_before_time()](../api/kineticstoolkit.TimeSeries.get_ts_before_time.rst),\n",
    "  [TimeSeries.get_ts_after_time()](../api/kineticstoolkit.TimeSeries.get_ts_after_time.rst),\n",
    "  [TimeSeries.get_ts_between_times()](../api/kineticstoolkit.TimeSeries.get_ts_between_times.rst),\n",
    "  [TimeSeries.get_ts_before_event()](../api/kineticstoolkit.TimeSeries.get_ts_before_event.rst),\n",
    "  [TimeSeries.get_ts_after_event()](../api/kineticstoolkit.TimeSeries.get_ts_after_event.rst),\n",
    "  [TimeSeries.get_ts_between_events()](../api/kineticstoolkit.TimeSeries.get_ts_between_events.rst) to split a TimeSeries in time following specific criteria.\n",
    "\n",
    "In this tutorial, we will see how to use these methods to manage a TimeSeries of marker trajectories. We will start by loading a sample `c3d` file with some marker trajectories. This example has 26 markers with 3678 samples recorded at 120 Hz."
   ]
  },
  {
   "cell_type": "code",
   "execution_count": null,
   "id": "78a7b0b4-ea62-466e-b71d-a3057ae4298a",
   "metadata": {},
   "outputs": [],
   "source": [
    "import kineticstoolkit.lab as ktk\n",
    "\n",
    "markers = ktk.kinematics.read_c3d_file(\n",
    "    ktk.config.root_folder\n",
    "    + '/data/kinematics/sprintbasket.c3d'\n",
    ")\n",
    "\n",
    "markers"
   ]
  },
  {
   "cell_type": "code",
   "execution_count": null,
   "id": "f9db3e35-5789-452a-853e-e57019595562",
   "metadata": {},
   "outputs": [],
   "source": [
    "markers.data"
   ]
  },
  {
   "cell_type": "markdown",
   "id": "ca346141-d1b5-4da8-ae5f-c8c7c833ffa1",
   "metadata": {},
   "source": [
    "Copying a TimeSeries\n",
    "--------------------\n",
    "\n",
    "As for most class instances in Python, a TimeSeries is a mutable type. This means that for a TimeSeries `ts1`, `ts2 = ts1` creates a second reference to the same TimeSeries. This means that modifying `ts2` will also modify `ts1`.\n",
    "\n",
    "To create a completely independent copy of a TimeSeries, we use the [TimeSeries.copy()](../api/kineticstoolkit.TimeSeries.copy.rst) method:"
   ]
  },
  {
   "cell_type": "code",
   "execution_count": null,
   "id": "24baf5ce-84e0-4f06-9577-0e77970b827c",
   "metadata": {},
   "outputs": [],
   "source": [
    "markers_copy = markers.copy()\n",
    "\n",
    "markers_copy"
   ]
  },
  {
   "cell_type": "markdown",
   "id": "b9176268-a648-41cc-89c7-7c4592b0254e",
   "metadata": {},
   "source": [
    "Interestingly, [TimeSeries.copy()](../api/kineticstoolkit.TimeSeries.copy.rst) has different arguments to select which attributes to copy. For instance, if we want to create an empty TimeSeries, but with the same time and events as the source, we could use:"
   ]
  },
  {
   "cell_type": "code",
   "execution_count": null,
   "id": "26362a7b-fe8b-42aa-9dba-d15fb54e6b8e",
   "metadata": {},
   "outputs": [],
   "source": [
    "markers_copy = markers.copy(copy_data=False, copy_data_info=False)\n",
    "\n",
    "markers_copy"
   ]
  },
  {
   "cell_type": "markdown",
   "id": "6bce99ce-3486-4bcf-892f-e697668b0ab3",
   "metadata": {
    "tags": []
   },
   "source": [
    "Subsetting and merging TimeSeries\n",
    "---------------------------------\n",
    "\n",
    "The [TimeSeries.get_subset()](../api/kineticstoolkit.TimeSeries.get_subset.rst) method allows copying a TimeSeries with only a subset of the original TimeSeries. For example, in the markers TimeSeries, we may be interested only in the markers `BodyL:AcromionL` and `BodyL:LateralEpicondyleL`. To copy only these markers, we would use:"
   ]
  },
  {
   "cell_type": "code",
   "execution_count": null,
   "id": "f746e872-e855-45e0-bf5c-2c216b663c10",
   "metadata": {},
   "outputs": [],
   "source": [
    "markers_subset = markers.get_subset(\n",
    "    ['BodyL:AcromionL', 'BodyL:LateralEpicondyleL']\n",
    ")\n",
    "\n",
    "markers_subset.data"
   ]
  },
  {
   "cell_type": "markdown",
   "id": "9ec08825-086c-4900-b288-3b1b616c3823",
   "metadata": {},
   "source": [
    "To merge two TimeSeries together, we use the [TimeSeries.merge()](../api/kineticstoolkit.TimeSeries.merge.rst). For example, if we wanted to add the marker `BodyL:HandL` to this subset:"
   ]
  },
  {
   "cell_type": "code",
   "execution_count": null,
   "id": "c0d057e2-9152-4506-8060-d21782f46851",
   "metadata": {},
   "outputs": [],
   "source": [
    "markers_subset = markers_subset.merge(\n",
    "    markers.get_subset('BodyL:HandL')\n",
    ")\n",
    "\n",
    "markers_subset.data"
   ]
  },
  {
   "cell_type": "markdown",
   "id": "f19c0fbd-9a7b-4c75-b298-d8acbd23d0da",
   "metadata": {},
   "source": [
    "Alternatively, we could directly add the data to the TimeSeries `data` attribute using\n",
    "\n",
    "    markers_subset.data['BodyL:HandL'] = markers.data['BodyL:HandL']\n",
    "    \n",
    "However, using the `merge` method is slightly safer since it ensures that the time vector is identical in both TimeSeries before merging."
   ]
  },
  {
   "cell_type": "markdown",
   "id": "7fd7652e-83e5-41c9-b6c4-6632d0f480fa",
   "metadata": {},
   "source": [
    "Splitting TimeSeries\n",
    "--------------------"
   ]
  },
  {
   "cell_type": "markdown",
   "id": "4b85b3d5-f8d9-4275-ac86-3978e4319bc2",
   "metadata": {},
   "source": [
    "### Using indexes\n",
    "\n",
    "The [TimeSeries.get_ts_before_index()](../api/kineticstoolkit.TimeSeries.get_ts_before_index.rst),\n",
    "[TimeSeries.get_ts_after_index()](../api/kineticstoolkit.TimeSeries.get_ts_after_index.rst), and\n",
    "[TimeSeries.get_ts_between_indexes()](../api/kineticstoolkit.TimeSeries.get_ts_between_indexes.rst)\n",
    "allow splitting the TimeSeries based on time indexes. For example, if we plot the previous markers subset, we see that the main action (the oscillating signals) starts at about 12 seconds and stops at about 18 seconds. At 120 samples per second, this means from indexes 1440 to 2160."
   ]
  },
  {
   "cell_type": "code",
   "execution_count": null,
   "id": "f23d5059-e5be-4643-8f72-2a1a5fc960da",
   "metadata": {},
   "outputs": [],
   "source": [
    "markers_subset.plot()"
   ]
  },
  {
   "cell_type": "markdown",
   "id": "57726539-a144-4272-84e8-bee7a4222f67",
   "metadata": {
    "tags": []
   },
   "source": [
    "We could therefore split the TimeSeries between indexes 1440 and 2160:"
   ]
  },
  {
   "cell_type": "code",
   "execution_count": null,
   "id": "db881503-0212-44fb-8185-c00e99950a1b",
   "metadata": {},
   "outputs": [],
   "source": [
    "ts = markers_subset.get_ts_between_indexes(1440, 2160)\n",
    "ts.plot()"
   ]
  },
  {
   "cell_type": "markdown",
   "id": "fb90067f-6eaa-4a03-aed3-ffe37a0b935b",
   "metadata": {},
   "source": [
    "### Using time\n",
    "\n",
    "We could also use the time directly to do the same split, using one of\n",
    "[TimeSeries.get_ts_before_time()](../api/kineticstoolkit.TimeSeries.get_ts_before_time.rst),\n",
    "[TimeSeries.get_ts_after_time()](../api/kineticstoolkit.TimeSeries.get_ts_after_time.rst), and\n",
    "[TimeSeries.get_ts_between_times()](../api/kineticstoolkit.TimeSeries.get_ts_between_times.rst)."
   ]
  },
  {
   "cell_type": "code",
   "execution_count": null,
   "id": "24d261e6-1725-4434-a7a0-0df4ecde26c0",
   "metadata": {},
   "outputs": [],
   "source": [
    "ts = markers_subset.get_ts_between_times(12, 18)\n",
    "ts.plot()"
   ]
  },
  {
   "cell_type": "markdown",
   "id": "5c043c49-ec08-4bd4-977f-74f7f9996ba7",
   "metadata": {},
   "source": [
    "### Using events\n",
    "\n",
    "A very powerful method to split a TimeSeries is to use events. For this example, we will rebuilt the wheelchair kinetics TimeSeries of the previous tutorial."
   ]
  },
  {
   "cell_type": "code",
   "execution_count": null,
   "id": "f6c0a80d-8262-4be7-bc39-bc6a66f1d397",
   "metadata": {},
   "outputs": [],
   "source": [
    "ts = ktk.load(ktk.config.root_folder + '/data/timeseries/smartwheel.ktk.zip')\n",
    "ts = ts.add_event(4.35, 'sync')\n",
    "ts = ts.add_event(8.56, 'push')\n",
    "ts = ts.add_event(9.93, 'recovery')\n",
    "ts = ts.add_event(10.50, 'push')\n",
    "ts = ts.add_event(11.12, 'recovery')\n",
    "ts = ts.add_event(11.78, 'push')\n",
    "ts = ts.add_event(12.33, 'recovery')\n",
    "ts = ts.add_event(13.39, 'push')\n",
    "ts = ts.add_event(13.88, 'recovery')\n",
    "ts = ts.add_event(14.86, 'push')\n",
    "ts = ts.add_event(15.30, 'recovery')\n",
    "ts = ts.sync_event('sync')\n",
    "\n",
    "ts.plot()"
   ]
  },
  {
   "cell_type": "markdown",
   "id": "48ea4529-279f-4b3e-97da-c2e75c408986",
   "metadata": {},
   "source": [
    "If we want to analyze data of the four first pushes and get rid of any other data, we would use one of\n",
    "[TimeSeries.get_ts_before_event()](../api/kineticstoolkit.TimeSeries.get_ts_before_event.rst),\n",
    "[TimeSeries.get_ts_after_event()](../api/kineticstoolkit.TimeSeries.get_ts_after_event.rst), and\n",
    "[TimeSeries.get_ts_between_events()](../api/kineticstoolkit.TimeSeries.get_ts_between_events.rst):"
   ]
  },
  {
   "cell_type": "code",
   "execution_count": null,
   "id": "c7efffc5-06b9-4dae-b753-6cd509ccd6e6",
   "metadata": {},
   "outputs": [],
   "source": [
    "# inclusive=True to ensure that the push 0 and push 4 events are included in\n",
    "# the resulting time vector\n",
    "first_four_pushes = ts.get_ts_between_events(\n",
    "    'push', 'push', 0, 4, inclusive=True\n",
    ")\n",
    "\n",
    "# Remove events not inside the resulting time vector\n",
    "first_four_pushes = first_four_pushes.trim_events()\n",
    "\n",
    "first_four_pushes.plot()"
   ]
  },
  {
   "cell_type": "markdown",
   "id": "d349b128-354c-47ce-8a7d-c6501d2f4829",
   "metadata": {},
   "source": [
    "We could also, for instance, extract only the push phase of the second cycle:"
   ]
  },
  {
   "cell_type": "code",
   "execution_count": null,
   "id": "a43499da-6cb9-4af1-8f1d-6a78136488b0",
   "metadata": {},
   "outputs": [],
   "source": [
    "second_push_phase = ts.get_ts_between_events(\n",
    "    'push', 'recovery', 1, 1, inclusive=True\n",
    ")\n",
    "\n",
    "second_push_phase = second_push_phase.trim_events()\n",
    "\n",
    "second_push_phase.plot()"
   ]
  }
 ],
 "metadata": {
  "kernelspec": {
   "display_name": "Python 3 (ipykernel)",
   "language": "python",
   "name": "python3"
  },
  "language_info": {
   "codemirror_mode": {
    "name": "ipython",
    "version": 3
   },
   "file_extension": ".py",
   "mimetype": "text/x-python",
   "name": "python",
   "nbconvert_exporter": "python",
   "pygments_lexer": "ipython3",
   "version": "3.8.10"
  }
 },
 "nbformat": 4,
 "nbformat_minor": 5
}
