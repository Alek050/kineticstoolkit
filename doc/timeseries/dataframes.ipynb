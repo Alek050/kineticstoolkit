{
 "cells": [
  {
   "cell_type": "markdown",
   "id": "0182d976-9b77-404d-832f-9b4ae7e9e211",
   "metadata": {},
   "source": [
    "Converting between TimeSeries and Pandas DataFrames\n",
    "============================================\n",
    "\n",
    "To ensure a great compatibility between Kinetics Toolkit and other frameworks, TimeSeries can be converted from and to Pandas DataFrame using the [TimeSeries.from_dataframe()](../api/kineticstoolkit.TimeSeries.from_dataframe.rst) and [TimeSeries.to_dataframe()](../api/kineticstoolkit.TimeSeries.to_dataframe.rst) methods, and thus benefit from the myriad of options offered by Pandas.\n",
    "\n",
    "In this tutorial, we will learn how to import comma-separated-value (csv) files as TimeSeries, and export back to csv."
   ]
  },
  {
   "cell_type": "code",
   "execution_count": null,
   "id": "4d9d86ed-92d8-4e83-be38-4aab556de517",
   "metadata": {},
   "outputs": [],
   "source": [
    "import kineticstoolkit.lab as ktk\n",
    "import pandas as pd"
   ]
  },
  {
   "cell_type": "markdown",
   "id": "2f678f64-0ba5-4aee-8d0d-936ae6810423",
   "metadata": {},
   "source": [
    "Example 1: Importing a csv file\n",
    "-------------------------------\n",
    "\n",
    "We import the contents of this csv file:\n",
    "\n",
    "    Time,Force,Position\n",
    "    0,0,0\n",
    "    0.1,0,0.01\n",
    "    0.2,0,0.02\n",
    "    0.3,0,0.03\n",
    "    0.4,0.3,0.04\n",
    "    0.5,0.5,0.05\n",
    "    0.6,0.6,0.06\n",
    "    0.7,0.5,0.07\n",
    "    0.8,0.3,0.08\n",
    "    0.9,0,0.09\n",
    "    1,0,0.1"
   ]
  },
  {
   "cell_type": "markdown",
   "id": "180f1f59-ae94-4897-bc67-ec5e07677b8f",
   "metadata": {},
   "source": [
    "First, by opening it as a Pandas DataFrame using `pd.read_csv()`, then by converting it to a TimeSeries:"
   ]
  },
  {
   "cell_type": "code",
   "execution_count": null,
   "id": "1bb6c4cf-2c78-45e3-9c61-88df3d00f891",
   "metadata": {},
   "outputs": [],
   "source": [
    "ts = ktk.TimeSeries.from_dataframe(\n",
    "    pd.read_csv(\n",
    "        ktk.config.root_folder + '/data/timeseries/sample1.csv',\n",
    "        index_col='Time',\n",
    "    )\n",
    ")\n",
    "\n",
    "ts"
   ]
  },
  {
   "cell_type": "code",
   "execution_count": null,
   "id": "828ea189-01f3-4610-98f2-aeed14a675b5",
   "metadata": {},
   "outputs": [],
   "source": [
    "ts.data"
   ]
  },
  {
   "cell_type": "markdown",
   "id": "530c4302-1737-4955-a7bc-c49d0964903c",
   "metadata": {},
   "source": [
    "### Multidimensional data\n",
    "\n",
    "TimeSeries are well suited for multidimensional data. In the last example, the force sensor was unidimensional. For a tridimensional force sensor, we would expect three signals (x, y, z).\n",
    "\n",
    "In this second example, we will import the following csv file:\n",
    "\n",
    "    Time,Fx,Fy,Fz,Position\n",
    "    0,0,-9.81,0,0\n",
    "    0.1,0,-9.81,0,0.01\n",
    "    0.2,0,-9.81,0,0.02\n",
    "    0.3,0,-9.81,0,0.03\n",
    "    0.4,0.3,-9.81,1.5,0.04\n",
    "    0.5,0.5,-9.81,2.5,0.05\n",
    "    0.6,0.6,-9.81,3,0.06\n",
    "    0.7,0.5,-9.81,2.5,0.07\n",
    "    0.8,0.3,-9.81,1.5,0.08\n",
    "    0.9,0,-9.81,0,0.09\n",
    "    1,0,-9.81,0,0.1"
   ]
  },
  {
   "cell_type": "code",
   "execution_count": null,
   "id": "d31f9f6b-1e5f-4ff5-961e-285d64cb18fd",
   "metadata": {},
   "outputs": [],
   "source": [
    "ts = ktk.TimeSeries.from_dataframe(\n",
    "    pd.read_csv(\n",
    "        ktk.config.root_folder + '/data/timeseries/sample2.csv',\n",
    "        index_col='Time',\n",
    "    )\n",
    ")\n",
    "\n",
    "ts"
   ]
  },
  {
   "cell_type": "code",
   "execution_count": null,
   "id": "68802090-6d34-4df1-8337-191a967bfdce",
   "metadata": {},
   "outputs": [],
   "source": [
    "ts.data"
   ]
  },
  {
   "cell_type": "markdown",
   "id": "c07757ab-8264-4d1e-8842-465da773e8e3",
   "metadata": {},
   "source": [
    "As for the previous example, the csv file was correctly read as a TimeSeries. However, force components are scattered into three separate signals. Instead, we would like to process these signals as three components of a same data.\n",
    "\n",
    "A trick to combine the three force components into a single signal is to rename the columns of the DataFrame, either in the original csv file or after reading it, using index brackets. Let's start over by loading the DataFrame first:"
   ]
  },
  {
   "cell_type": "code",
   "execution_count": null,
   "id": "5d3b01ce-f645-4d8f-b81a-cb26918eaa71",
   "metadata": {},
   "outputs": [],
   "source": [
    "df = pd.read_csv(\n",
    "    ktk.config.root_folder + '/data/timeseries/sample2.csv',\n",
    "    index_col='Time',\n",
    ")\n",
    "\n",
    "df"
   ]
  },
  {
   "cell_type": "markdown",
   "id": "0daac52a-1e17-48e6-bcb4-f7c937887330",
   "metadata": {},
   "source": [
    "Now, we rename the columns using indexing:"
   ]
  },
  {
   "cell_type": "code",
   "execution_count": null,
   "id": "d5c383a2-ca6b-4aa9-8c80-f7771d0a4d42",
   "metadata": {},
   "outputs": [],
   "source": [
    "df.columns = ['Forces[0]', 'Forces[1]', 'Forces[2]', 'Position']\n",
    "\n",
    "df"
   ]
  },
  {
   "cell_type": "markdown",
   "id": "0ef326a5-2395-4d54-9ceb-80b5b55520f5",
   "metadata": {},
   "source": [
    "Finally, we can import this new DataFrame as a TimeSeries. The forces signals are combined into one Nx3 array:"
   ]
  },
  {
   "cell_type": "code",
   "execution_count": null,
   "id": "7dad6cac-d543-4bf1-bb16-1f227e883960",
   "metadata": {},
   "outputs": [],
   "source": [
    "ts = ktk.TimeSeries.from_dataframe(df)\n",
    "\n",
    "ts.data"
   ]
  },
  {
   "cell_type": "code",
   "execution_count": null,
   "id": "c556ffa7-6258-4b10-ab72-cd180bce7c94",
   "metadata": {},
   "outputs": [],
   "source": [
    "ts.data['Forces']"
   ]
  },
  {
   "cell_type": "markdown",
   "id": "e2a31e7f-c56e-4df8-9bdb-db054e1282a0",
   "metadata": {},
   "source": [
    "For series of arrays with more than one dimension, the brackets would have multiple indexes. For example, a series of Nx4x4 homogeneous matrices would require 16 columns and the indexes would go from [0,0] to [3,3]."
   ]
  },
  {
   "cell_type": "markdown",
   "id": "bf20fee5-0119-4ca4-a2b5-2f9df099b333",
   "metadata": {
    "tags": []
   },
   "source": [
    "Example 2: Converting a c3d file to csv\n",
    "---------------------------------------\n",
    "\n",
    "For saving a TimeSeries to a `csv`, we create a DataFrame using the [TimeSeries.to_dataframe()](../api/kineticstoolkit.TimeSeries.to_dataframe.rst) method, then we can use Pandas' `to_csv()` method.\n",
    "\n",
    "In this example, we will read 3d marker positions from a sample `c3d` file, and export these positions to a `csv` file. We first read the `c3d` file using the [kinematics](../api/kineticstoolkit.kinematics.rst) module. This results in a TimeSeries with 26 markers:"
   ]
  },
  {
   "cell_type": "code",
   "execution_count": null,
   "id": "082a850d-97d5-4b3b-9b33-5472c7c6bb07",
   "metadata": {},
   "outputs": [],
   "source": [
    "markers = ktk.kinematics.read_c3d_file(\n",
    "    ktk.config.root_folder\n",
    "    + '/data/kinematics/sprintbasket.c3d'\n",
    ")\n",
    "\n",
    "markers"
   ]
  },
  {
   "cell_type": "code",
   "execution_count": null,
   "id": "c718f06d-2a51-4ff4-a117-6efd7fa093a1",
   "metadata": {},
   "outputs": [],
   "source": [
    "markers.data"
   ]
  },
  {
   "cell_type": "markdown",
   "id": "5d064d76-2ec9-4702-a6fd-e1f18580419d",
   "metadata": {},
   "source": [
    "To convert this TimeSeries to a `csv`, we first create a DataFrame:"
   ]
  },
  {
   "cell_type": "code",
   "execution_count": null,
   "id": "b480ebeb-2430-458a-8169-6f44d0b236ef",
   "metadata": {},
   "outputs": [],
   "source": [
    "df = markers.to_dataframe()\n",
    "\n",
    "df"
   ]
  },
  {
   "cell_type": "markdown",
   "id": "0a94ae8f-6c2d-4687-8819-b8f112f7e52d",
   "metadata": {},
   "source": [
    "Then we export this DataFrame to a `csv` file. Let's print the first 3 lines of this file:"
   ]
  },
  {
   "cell_type": "code",
   "execution_count": null,
   "id": "f6e0faa4-a6ff-4f5f-91e5-1d364d45a629",
   "metadata": {},
   "outputs": [],
   "source": [
    "df.to_csv('output.csv', index_label='Time')\n",
    "\n",
    "!head -3 output.csv"
   ]
  }
 ],
 "metadata": {
  "kernelspec": {
   "display_name": "Python 3 (ipykernel)",
   "language": "python",
   "name": "python3"
  },
  "language_info": {
   "codemirror_mode": {
    "name": "ipython",
    "version": 3
   },
   "file_extension": ".py",
   "mimetype": "text/x-python",
   "name": "python",
   "nbconvert_exporter": "python",
   "pygments_lexer": "ipython3",
   "version": "3.8.10"
  }
 },
 "nbformat": 4,
 "nbformat_minor": 5
}
