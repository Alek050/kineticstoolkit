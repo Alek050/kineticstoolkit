{
 "cells": [
  {
   "cell_type": "markdown",
   "metadata": {},
   "source": [
    "Converting between transformation matrices and Euler angles\n",
    "===========================================================\n",
    "\n",
    "The [geometry](../api/kineticstoolkit.geometry.rst) module provides two functions for manipulating series of rotations:\n",
    "\n",
    "- [create_rotation_matrices](../api/kineticstoolkit.geometry.rst#kineticstoolkit.geometry.create_rotation_matrices): A wrapper to `scipy.transform.Rotation.from_euler` that creates Nx4x4 series rigid transformations based on rotation axes and angles.\n",
    "- [get_euler_angles](../api/kineticstoolkit.geometry.rst#kineticstoolkit.geometry.create_rotation_matrices): A wrapper to `scipy.transform.Rotation.as_euler` that extracts Euler angles from Nx4x4 series of rigid transformations."
   ]
  },
  {
   "cell_type": "markdown",
   "metadata": {},
   "source": [
    "To be continued."
   ]
  }
 ],
 "metadata": {
  "kernelspec": {
   "display_name": "Python 3",
   "language": "python",
   "name": "python3"
  },
  "language_info": {
   "codemirror_mode": {
    "name": "ipython",
    "version": 3
   },
   "file_extension": ".py",
   "mimetype": "text/x-python",
   "name": "python",
   "nbconvert_exporter": "python",
   "pygments_lexer": "ipython3",
   "version": "3.8.6"
  }
 },
 "nbformat": 4,
 "nbformat_minor": 4
}
