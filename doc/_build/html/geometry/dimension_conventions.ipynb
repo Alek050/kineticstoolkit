{
 "cells": [
  {
   "cell_type": "markdown",
   "metadata": {},
   "source": [
    "Dimension conventions\n",
    "=====================\n",
    "\n",
    "We remind an important convention in Kinetics Toolkit:\n",
    "\n",
    "- Every point, vector or matrix, and in many case even scalar, is considered as a **series**.\n",
    "- The first dimension of any series corresponds to **time**.\n",
    "\n",
    "To understand better how to express series of scalars, vectors, points, sets and matrices, please refer to the following pictures:\n",
    "\n",
    "Series of scalars\n",
    "-----------------\n",
    "\n",
    "![Series of m scalars](../_static/geometry/series_of_m_scalars.png){ width=330px }\n",
    "\n",
    "Series of vectors and points\n",
    "----------------------------\n",
    "\n",
    "![Series of m vectors](../_static/geometry/series_of_m_vectors.png){ width=330px } ![Series of m points](../_static/geometry/series_of_m_points.png){ width=330px }\n",
    "\n",
    "Note the difference between vectors and points: vectors (e.g., forces, velocities) have zeros as their fourth coordinate while points (e.g., marker coordinates) have ones. This difference has an impact on algeabric calculation:\n",
    "\n",
    "- A rigid transformation of a vector gives a new rotated vector expressed as a new orientation and amplitude.\n",
    "- A rigid transformation on a point yields a translated point expressed as its new coordinates in the new reference frame.\n",
    "\n",
    "Series of groups of vectors or points\n",
    "-------------------------------------\n",
    "\n",
    "![Series of m groups of n vectors](../_static/geometry/series_of_m_groups_of_n_vectors.png){ width=330px } ![Series of m groups of n points](../_static/geometry/series_of_m_groups_of_n_points.png){ width=330px }\n",
    "\n",
    "Series of transformation matrices\n",
    "---------------------------------\n",
    "\n",
    "![Series of m transformation matrices](../_static/geometry/series_of_m_transformation_matrices.png){ width=350px }\n",
    "\n",
    "Working with constants\n",
    "----------------------\n",
    "\n",
    "Since most signals in Kinetics Toolkit as considered as a series, always ensure that the first dimension of any array is reserved to time. For example, the vector (x = 1, y = 2, z = 3) must be expressed as `np.array([[1.0, 2.0, 3.0, 0.0]])` (note the double brackets). A common error would be to express it as `np.array([1.0, 2.0, 3.0, 0.0])` (single brackets), which would mean a series of 4 floats instead of one constant vector.\n",
    "\n",
    "A quick way to convert a constant array to a series is to use numpy's `newaxis`:"
   ]
  },
  {
   "cell_type": "code",
   "execution_count": 1,
   "metadata": {},
   "outputs": [
    {
     "data": {
      "text/plain": [
       "array([[1., 0., 0., 0.],\n",
       "       [0., 1., 0., 0.],\n",
       "       [0., 0., 1., 0.],\n",
       "       [0., 0., 0., 1.]])"
      ]
     },
     "execution_count": 1,
     "metadata": {},
     "output_type": "execute_result"
    }
   ],
   "source": [
    "import numpy as np\n",
    "\n",
    "one_matrix = np.eye(4)\n",
    "one_matrix"
   ]
  },
  {
   "cell_type": "code",
   "execution_count": 2,
   "metadata": {},
   "outputs": [
    {
     "data": {
      "text/plain": [
       "array([[[1., 0., 0., 0.],\n",
       "        [0., 1., 0., 0.],\n",
       "        [0., 0., 1., 0.],\n",
       "        [0., 0., 0., 1.]]])"
      ]
     },
     "execution_count": 1,
     "metadata": {},
     "output_type": "execute_result"
    }
   ],
   "source": [
    "series_of_one_matrix = one_matrix[np.newaxis]\n",
    "series_of_one_matrix"
   ]
  }
 ],
 "metadata": {
  "kernelspec": {
   "display_name": "Python 3",
   "language": "python",
   "name": "python3"
  },
  "language_info": {
   "codemirror_mode": {
    "name": "ipython",
    "version": 3
   },
   "file_extension": ".py",
   "mimetype": "text/x-python",
   "name": "python",
   "nbconvert_exporter": "python",
   "pygments_lexer": "ipython3",
   "version": "3.8.6"
  }
 },
 "nbformat": 4,
 "nbformat_minor": 4
}
