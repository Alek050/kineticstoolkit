{
 "cells": [
  {
   "cell_type": "markdown",
   "metadata": {},
   "source": [
    "Inverse Dynamics\n",
    "===============\n",
    "The [inversedynamics](api/kineticstoolkit.inversedynamics.rst) module calculates the proximal forces and moments based on the segment's kinematics and distal forces and moments, based on the general method published in [1].\n",
    "\n",
    "The results are the forces and moments applied by the distal segment on the\n",
    "proximal articulation, in the global coordinates system.\n",
    "\n",
    ".. warning:: This is still a very experimental module that has not been validated yet.\n",
    "\n",
    "To date, the following tests were made and were successful:\n",
    "\n",
    "1. A complete loop from the point of force application point to the force point application, using real wheelchair propulsion data, with a fake mass of 0 kg. In these test conditions, the proximal and distal kinetics are equal, as expected. This test was to verify that the implemented matrices are exempt of sign errors.\n",
    "2. Real wheelchair propulsion data was inspected and seems plausible.\n",
    "\n",
    "\n",
    "[1] R. Dumas, R. Aissaoui, and J. A. De Guise, \"A 3D generic inverse dynamic method using wrench notation and quaternion algebra,\" Comput Meth Biomech Biomed Eng, vol. 7, no. 3, pp. 159–166, 2004."
   ]
  },
  {
   "cell_type": "code",
   "execution_count": null,
   "metadata": {},
   "outputs": [],
   "source": [
    "import kineticstoolkit.lab as ktk"
   ]
  },
  {
   "cell_type": "markdown",
   "metadata": {},
   "source": [
    "Loading sample data\n",
    "-------------------\n",
    "In this tutorial, we will load propulsion data from a sprint in Wheelchair Basketball. Kinetics were recorded using an instrumented wheel (SmartWheel) and kinematics were recorded using an optoelectronic system (Optitrack). Data were preprocessed in Matlab."
   ]
  },
  {
   "cell_type": "code",
   "execution_count": null,
   "metadata": {},
   "outputs": [],
   "source": [
    "# Total mass of the participant\n",
    "total_mass = 75\n",
    "\n",
    "# Load kinetics\n",
    "kinetics = ktk.load('data/inversedynamics/basketball_kinetics.mat')\n",
    "kinetics = kinetics['kineticsSWR']\n",
    "\n",
    "# Correct the signs so that the moments are in a correct coordinate system\n",
    "# (The SmartWheel usually reports Mz positive when it should be negative)\n",
    "kinetics.data['Moments'][:, 2] = -kinetics.data['Moments'][:, 2]\n",
    "\n",
    "# Load kinematics\n",
    "kinematics = ktk.load('data/inversedynamics/basketball_kinematics.mat')\n",
    "kinematics = kinematics['kinematics']\n",
    "markers = kinematics['Markers']\n",
    "\n",
    "# Sync kinetics and kinematics (there is a 5.525 time lag between both)\n",
    "markers.time -= 5.525\n",
    "\n",
    "# Merge all under the same ts_all TimeSeries.\n",
    "ts_all = markers.copy()\n",
    "ts_all.merge(kinetics, resample=True)\n",
    "\n",
    "# Keep only the sprint data\n",
    "ts_all = ts_all.get_ts_between_times(0, 15)"
   ]
  },
  {
   "cell_type": "markdown",
   "metadata": {},
   "source": [
    "Calculate the force and moments at the hand\n",
    "-------------------------------------------\n",
    "The same calculation is done on every segment, from distal to proximal. We begin with the segment 'Wheel', since the kinetics are measured at the wheel, and we go up to the hand, which will later be the new point of force\n",
    "application.\n",
    "\n",
    "We will ignore the inertial parameters of the pushrim."
   ]
  },
  {
   "cell_type": "code",
   "execution_count": null,
   "metadata": {},
   "outputs": [],
   "source": [
    "pushrim_inertial_parameters = {'Mass' : 0,\n",
    "                               'COMProximalRatio' : 0,\n",
    "                               'GyrationCOMRatio': 0}\n",
    "\n",
    "ts = ktk.TimeSeries(time=ts_all.time)\n",
    "\n",
    "ts.data['ProximalJointPosition'] = ts_all.data['BodyR_HandR']\n",
    "ts.data['DistalJointPosition'] = ts_all.data['RearWheelCenterR']\n",
    "ts.data['ForceApplicationPosition'] = ts_all.data['RearWheelCenterR']\n",
    "ts.data['DistalForces'] = ts_all.data['Forces']\n",
    "ts.data['DistalMoments'] = ts_all.data['Moments']\n",
    "\n",
    "new_ts = ktk.inversedynamics.calculate_proximal_wrench(\n",
    "        ts, pushrim_inertial_parameters)\n",
    "\n",
    "# Print the results\n",
    "new_ts.plot(['DistalForces', 'DistalMoments'])\n",
    "new_ts.plot(['ProximalForces', 'ProximalMoments'])"
   ]
  },
  {
   "cell_type": "markdown",
   "metadata": {},
   "source": [
    "Calculate the force and moments at the elbow\n",
    "-------------------------------------------"
   ]
  },
  {
   "cell_type": "code",
   "execution_count": null,
   "metadata": {},
   "outputs": [],
   "source": [
    "ts = ktk.TimeSeries(time=ts_all.time)\n",
    "\n",
    "ts.data['ProximalJointPosition'] = ts_all.data['ElbowR']\n",
    "ts.data['DistalJointPosition'] = ts_all.data['RadialStyloidR']\n",
    "ts.data['ForceApplicationPosition'] = ts_all.data['BodyR_HandR']\n",
    "ts.data['DistalForces'] = new_ts.data['ProximalForces']\n",
    "ts.data['DistalMoments'] = new_ts.data['ProximalMoments']\n",
    "\n",
    "new_ts = ktk.inversedynamics.calculate_proximal_wrench(\n",
    "        ts, ktk.inversedynamics.get_anthropometrics('ForearmHand', total_mass))\n",
    "\n",
    "# Print the results\n",
    "new_ts.plot(['DistalForces', 'DistalMoments'])\n",
    "new_ts.plot(['ProximalForces', 'ProximalMoments'])"
   ]
  },
  {
   "cell_type": "markdown",
   "metadata": {},
   "source": [
    "Calculate the force and moments at the shoulder\n",
    "--------------------------------------------"
   ]
  },
  {
   "cell_type": "code",
   "execution_count": null,
   "metadata": {},
   "outputs": [],
   "source": [
    "ts = ktk.TimeSeries(time=ts_all.time)\n",
    "\n",
    "ts.data['ProximalJointPosition'] = ts_all.data['BodyR_AcromionR']\n",
    "ts.data['DistalJointPosition'] = ts_all.data['ElbowR']\n",
    "ts.data['ForceApplicationPosition'] = ts_all.data['ElbowR']\n",
    "ts.data['DistalForces'] = new_ts.data['ProximalForces']\n",
    "ts.data['DistalMoments'] = new_ts.data['ProximalMoments']\n",
    "\n",
    "new_ts = ktk.inversedynamics.calculate_proximal_wrench(\n",
    "        ts, ktk.inversedynamics.get_anthropometrics('UpperArm', total_mass))\n",
    "\n",
    "# Print the results\n",
    "new_ts.plot(['DistalForces', 'DistalMoments'])\n",
    "new_ts.plot(['ProximalForces', 'ProximalMoments'])"
   ]
  },
  {
   "cell_type": "markdown",
   "metadata": {},
   "source": [
    "For more information on inversedynamics, please check the [API Reference for the inversedynamics module](api/kineticstoolkit.inversedynamics.rst)."
   ]
  }
 ],
 "metadata": {
  "kernelspec": {
   "display_name": "Python 3",
   "language": "python",
   "name": "python3"
  },
  "language_info": {
   "codemirror_mode": {
    "name": "ipython",
    "version": 3
   },
   "file_extension": ".py",
   "mimetype": "text/x-python",
   "name": "python",
   "nbconvert_exporter": "python",
   "pygments_lexer": "ipython3",
   "version": "3.8.6"
  }
 },
 "nbformat": 4,
 "nbformat_minor": 4
}
