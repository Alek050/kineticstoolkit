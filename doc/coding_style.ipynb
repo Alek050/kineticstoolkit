{
 "cells": [
  {
   "cell_type": "markdown",
   "id": "285a4040",
   "metadata": {},
   "source": [
    "Coding style for Kinetics Toolkit\n",
    "=================================\n",
    "\n",
    "This is a draft for an upcoming coding style for Kinetics Toolkit and other projects at the Research Lab on Mobility in Adaptive Sports."
   ]
  },
  {
   "cell_type": "markdown",
   "id": "a19343b4",
   "metadata": {},
   "source": [
    "Standard Python conventions\n",
    "---------------------------\n",
    "\n",
    "We try, when possible, to match the guidelines presented in these documents:\n",
    "- [Style Guide for Python Code (PEP8)](https://pep8.org);\n",
    "- [Numpy Docstring](https://numpydoc.readthedocs.io/en/latest/format.html).\n",
    "\n",
    "Those are precious references and all other sections are additions to these references. Integrated desktop environments may help programmers to follow these conventions. For example, in Spyder, one could enable:\n",
    "\n",
    "- `Preferences : Completion in linting : Code style and formatting` to enable PEP8 linting;\n",
    "- `Preferences : Completion in linting : Docstring style` to enable docstring linting. "
   ]
  },
  {
   "cell_type": "markdown",
   "id": "3c67783f",
   "metadata": {},
   "source": [
    "Object life sequence\n",
    "--------------------\n",
    "\n",
    "New functions, classes and modules appear and live in the following order:\n",
    "\n",
    "### 1. Private/Unstable\n",
    "\n",
    "These objects are not meant to be used as an API, or they are objects that are being developed and whose API and behaviour may change at any time. They should be documented so they are clear to programmers. Their name begin with an underscore so that they are conventionally considered private.\n",
    "\n",
    "### 2. Experimental\n",
    "\n",
    "These objects are part of the API but are not considered stable yet. Their name does not begin with an underscore and thus are public. They are decorated with the `@experimental` decorator:"
   ]
  },
  {
   "cell_type": "code",
   "execution_count": 2,
   "id": "29fbe59c",
   "metadata": {},
   "outputs": [
    {
     "ename": "TypeError",
     "evalue": "experimental() got an unexpected keyword argument 'since'",
     "output_type": "error",
     "traceback": [
      "\u001b[0;31m---------------------------------------------------------------------------\u001b[0m",
      "\u001b[0;31mTypeError\u001b[0m                                 Traceback (most recent call last)",
      "\u001b[0;32m<ipython-input-2-ac9f6cafab83>\u001b[0m in \u001b[0;36m<module>\u001b[0;34m\u001b[0m\n\u001b[1;32m      1\u001b[0m \u001b[0;32mfrom\u001b[0m \u001b[0mkineticstoolkit\u001b[0m\u001b[0;34m.\u001b[0m\u001b[0mdecorators\u001b[0m \u001b[0;32mimport\u001b[0m \u001b[0mexperimental\u001b[0m\u001b[0;34m\u001b[0m\u001b[0;34m\u001b[0m\u001b[0m\n\u001b[1;32m      2\u001b[0m \u001b[0;34m\u001b[0m\u001b[0m\n\u001b[0;32m----> 3\u001b[0;31m \u001b[0;34m@\u001b[0m\u001b[0mexperimental\u001b[0m\u001b[0;34m(\u001b[0m\u001b[0msince\u001b[0m\u001b[0;34m=\u001b[0m\u001b[0;34m'0.1'\u001b[0m\u001b[0;34m)\u001b[0m\u001b[0;34m\u001b[0m\u001b[0;34m\u001b[0m\u001b[0m\n\u001b[0m\u001b[1;32m      4\u001b[0m \u001b[0;32mdef\u001b[0m \u001b[0mfunction_name\u001b[0m\u001b[0;34m(\u001b[0m\u001b[0marguments\u001b[0m\u001b[0;34m)\u001b[0m\u001b[0;34m:\u001b[0m\u001b[0;34m\u001b[0m\u001b[0;34m\u001b[0m\u001b[0m\n\u001b[1;32m      5\u001b[0m     \"\"\"\n",
      "\u001b[0;31mTypeError\u001b[0m: experimental() got an unexpected keyword argument 'since'"
     ]
    }
   ],
   "source": [
    "from kineticstoolkit.decorators import experimental\n",
    "\n",
    "@experimental(since='0.1')\n",
    "def function_name(arguments):\n",
    "    \"\"\"\n",
    "    Perform an operation.\n",
    "    \n",
    "    Proper docstring.\n",
    "    \"\"\"\n",
    "    pass  # function contents"
   ]
  },
  {
   "cell_type": "markdown",
   "id": "f6446df2",
   "metadata": {},
   "source": [
    "The convertion of a private/unstable object (with leading underscore) to a public object (without leading underscore) should be:\n",
    "\n",
    "- The leading underscore is removed from the function definition;\n",
    "- The experimental warning is added to the docstring if needed;\n",
    "- A new function with the original name is added, which is a wrapper to the new function with a deprecation warning. For example:"
   ]
  },
  {
   "cell_type": "code",
   "execution_count": 1,
   "id": "0eac73d7",
   "metadata": {},
   "outputs": [
    {
     "ename": "TypeError",
     "evalue": "deprecated() missing 2 required positional arguments: 'removed' and 'details'",
     "output_type": "error",
     "traceback": [
      "\u001b[0;31m---------------------------------------------------------------------------\u001b[0m",
      "\u001b[0;31mTypeError\u001b[0m                                 Traceback (most recent call last)",
      "\u001b[0;32m<ipython-input-1-039ede341e69>\u001b[0m in \u001b[0;36m<module>\u001b[0;34m\u001b[0m\n\u001b[0;32m----> 1\u001b[0;31m \u001b[0;32mfrom\u001b[0m \u001b[0mkineticstoolkit\u001b[0m\u001b[0;34m.\u001b[0m\u001b[0mdecorators\u001b[0m \u001b[0;32mimport\u001b[0m \u001b[0mdeprecated\u001b[0m\u001b[0;34m\u001b[0m\u001b[0;34m\u001b[0m\u001b[0m\n\u001b[0m\u001b[1;32m      2\u001b[0m \u001b[0;34m\u001b[0m\u001b[0m\n\u001b[1;32m      3\u001b[0m @deprecated(since='0.1', removed='0.2',\n\u001b[1;32m      4\u001b[0m             \u001b[0mdetails\u001b[0m\u001b[0;34m=\u001b[0m\u001b[0;34m'It has been replaced by `function_name` because '\u001b[0m\u001b[0;34m\u001b[0m\u001b[0;34m\u001b[0m\u001b[0m\n\u001b[1;32m      5\u001b[0m                     'the latter is now public')\n",
      "\u001b[0;32m~/Documents/git/ktk_develop/kineticstoolkit/__init__.py\u001b[0m in \u001b[0;36m<module>\u001b[0;34m\u001b[0m\n\u001b[1;32m     35\u001b[0m \u001b[0;34m\u001b[0m\u001b[0m\n\u001b[1;32m     36\u001b[0m \u001b[0;31m# --- Import released modules and functions\u001b[0m\u001b[0;34m\u001b[0m\u001b[0;34m\u001b[0m\u001b[0;34m\u001b[0m\u001b[0m\n\u001b[0;32m---> 37\u001b[0;31m \u001b[0;32mfrom\u001b[0m \u001b[0mkineticstoolkit\u001b[0m\u001b[0;34m.\u001b[0m\u001b[0mtimeseries\u001b[0m \u001b[0;32mimport\u001b[0m \u001b[0mTimeSeries\u001b[0m\u001b[0;34m,\u001b[0m \u001b[0mTimeSeriesEvent\u001b[0m\u001b[0;34m\u001b[0m\u001b[0;34m\u001b[0m\u001b[0m\n\u001b[0m\u001b[1;32m     38\u001b[0m \u001b[0mlisting\u001b[0m\u001b[0;34m.\u001b[0m\u001b[0mappend\u001b[0m\u001b[0;34m(\u001b[0m\u001b[0;34m'TimeSeries'\u001b[0m\u001b[0;34m)\u001b[0m\u001b[0;34m\u001b[0m\u001b[0;34m\u001b[0m\u001b[0m\n\u001b[1;32m     39\u001b[0m \u001b[0mlisting\u001b[0m\u001b[0;34m.\u001b[0m\u001b[0mappend\u001b[0m\u001b[0;34m(\u001b[0m\u001b[0;34m'TimeSeriesEvent'\u001b[0m\u001b[0;34m)\u001b[0m\u001b[0;34m\u001b[0m\u001b[0;34m\u001b[0m\u001b[0m\n",
      "\u001b[0;32m~/Documents/git/ktk_develop/kineticstoolkit/timeseries.py\u001b[0m in \u001b[0;36m<module>\u001b[0;34m\u001b[0m\n\u001b[1;32m    352\u001b[0m \u001b[0;34m\u001b[0m\u001b[0m\n\u001b[1;32m    353\u001b[0m \u001b[0;34m\u001b[0m\u001b[0m\n\u001b[0;32m--> 354\u001b[0;31m \u001b[0;32mclass\u001b[0m \u001b[0mTimeSeries\u001b[0m\u001b[0;34m(\u001b[0m\u001b[0;34m)\u001b[0m\u001b[0;34m:\u001b[0m\u001b[0;34m\u001b[0m\u001b[0;34m\u001b[0m\u001b[0m\n\u001b[0m\u001b[1;32m    355\u001b[0m     \"\"\"\n\u001b[1;32m    356\u001b[0m     \u001b[0mA\u001b[0m \u001b[0;32mclass\u001b[0m \u001b[0mthat\u001b[0m \u001b[0mimplements\u001b[0m \u001b[0mTimeSeries\u001b[0m\u001b[0;34m.\u001b[0m\u001b[0;34m\u001b[0m\u001b[0;34m\u001b[0m\u001b[0m\n",
      "\u001b[0;32m~/Documents/git/ktk_develop/kineticstoolkit/timeseries.py\u001b[0m in \u001b[0;36mTimeSeries\u001b[0;34m()\u001b[0m\n\u001b[1;32m    957\u001b[0m \u001b[0;34m\u001b[0m\u001b[0m\n\u001b[1;32m    958\u001b[0m     \u001b[0;34m@\u001b[0m\u001b[0mdeprecated\u001b[0m\u001b[0;34m\u001b[0m\u001b[0;34m\u001b[0m\u001b[0m\n\u001b[0;32m--> 959\u001b[0;31m     def ui_add_event(self,\n\u001b[0m\u001b[1;32m    960\u001b[0m                      \u001b[0mname\u001b[0m\u001b[0;34m:\u001b[0m \u001b[0mstr\u001b[0m \u001b[0;34m=\u001b[0m \u001b[0;34m'event'\u001b[0m\u001b[0;34m,\u001b[0m\u001b[0;34m\u001b[0m\u001b[0;34m\u001b[0m\u001b[0m\n\u001b[1;32m    961\u001b[0m                      \u001b[0mplot\u001b[0m\u001b[0;34m:\u001b[0m \u001b[0mUnion\u001b[0m\u001b[0;34m[\u001b[0m\u001b[0mstr\u001b[0m\u001b[0;34m,\u001b[0m \u001b[0mList\u001b[0m\u001b[0;34m[\u001b[0m\u001b[0mstr\u001b[0m\u001b[0;34m]\u001b[0m\u001b[0;34m]\u001b[0m \u001b[0;34m=\u001b[0m \u001b[0;34m[\u001b[0m\u001b[0;34m]\u001b[0m\u001b[0;34m,\u001b[0m \u001b[0;34m/\u001b[0m\u001b[0;34m,\u001b[0m \u001b[0;34m*\u001b[0m\u001b[0;34m,\u001b[0m\u001b[0;34m\u001b[0m\u001b[0;34m\u001b[0m\u001b[0m\n",
      "\u001b[0;31mTypeError\u001b[0m: deprecated() missing 2 required positional arguments: 'removed' and 'details'"
     ]
    }
   ],
   "source": [
    "from kineticstoolkit.decorators import deprecated\n",
    "\n",
    "@deprecated(since='0.1', removed='0.2',\n",
    "            details='It has been replaced by `function_name` because '\n",
    "                    'the latter is now public')\n",
    "def _function_name(arguments):\n",
    "    \"\"\"Perform an operation.\"\"\"\n",
    "    return function_name(arguments)\n",
    "\n",
    "def function_name(arguments):\n",
    "    \"\"\"\n",
    "    Perform an operation.\n",
    "    \n",
    "    Proper doctring\n",
    "    \"\"\"\n",
    "    pass  # Function contents"
   ]
  },
  {
   "cell_type": "markdown",
   "id": "3c96ec82",
   "metadata": {},
   "source": [
    "### 3. Stable\n",
    "\n",
    "Standard function, documented in the API using a proper docstring.\n",
    "\n",
    "\n",
    "### 4. Deprecated\n",
    "\n",
    "Standard function, but decorated with the `@deprecated` decorator:"
   ]
  },
  {
   "cell_type": "code",
   "execution_count": 3,
   "id": "9fb2e935",
   "metadata": {},
   "outputs": [
    {
     "ename": "NameError",
     "evalue": "name 'deprecated' is not defined",
     "output_type": "error",
     "traceback": [
      "\u001b[0;31m---------------------------------------------------------------------------\u001b[0m",
      "\u001b[0;31mNameError\u001b[0m                                 Traceback (most recent call last)",
      "\u001b[0;32m<ipython-input-3-1334248346e9>\u001b[0m in \u001b[0;36m<module>\u001b[0;34m\u001b[0m\n\u001b[0;32m----> 1\u001b[0;31m @deprecated(since='0.1', removed='0.2',\n\u001b[0m\u001b[1;32m      2\u001b[0m             \u001b[0mdetails\u001b[0m\u001b[0;34m=\u001b[0m\u001b[0;34m'It has been replaced by `better_function` because '\u001b[0m\u001b[0;34m\u001b[0m\u001b[0;34m\u001b[0m\u001b[0m\n\u001b[1;32m      3\u001b[0m                     'the latter is much better.')\n\u001b[1;32m      4\u001b[0m \u001b[0;32mdef\u001b[0m \u001b[0mfunction_name\u001b[0m\u001b[0;34m(\u001b[0m\u001b[0marguments\u001b[0m\u001b[0;34m)\u001b[0m\u001b[0;34m:\u001b[0m\u001b[0;34m\u001b[0m\u001b[0;34m\u001b[0m\u001b[0m\n\u001b[1;32m      5\u001b[0m     \u001b[0;34m\"\"\"Perform an operation.\"\"\"\u001b[0m\u001b[0;34m\u001b[0m\u001b[0;34m\u001b[0m\u001b[0m\n",
      "\u001b[0;31mNameError\u001b[0m: name 'deprecated' is not defined"
     ]
    }
   ],
   "source": [
    "@deprecated(since='0.1', removed='0.2',\n",
    "            details='It has been replaced by `better_function` because '\n",
    "                    'the latter is much better.')\n",
    "def function_name(arguments):\n",
    "    \"\"\"Perform an operation.\"\"\"\n",
    "    pass  # Function contents"
   ]
  }
 ],
 "metadata": {
  "kernelspec": {
   "display_name": "Python 3",
   "language": "python",
   "name": "python3"
  },
  "language_info": {
   "codemirror_mode": {
    "name": "ipython",
    "version": 3
   },
   "file_extension": ".py",
   "mimetype": "text/x-python",
   "name": "python",
   "nbconvert_exporter": "python",
   "pygments_lexer": "ipython3",
   "version": "3.8.8"
  }
 },
 "nbformat": 4,
 "nbformat_minor": 5
}
