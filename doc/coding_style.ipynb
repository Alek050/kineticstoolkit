{
 "cells": [
  {
   "cell_type": "markdown",
   "id": "2c7e1efb",
   "metadata": {},
   "source": [
    "Coding style for Kinetics Toolkit\n",
    "=================================\n",
    "\n",
    "This is a draft for an upcoming coding style for Kinetics Toolkit and other projects at the Research Lab on Mobility in Adaptive Sports."
   ]
  },
  {
   "cell_type": "markdown",
   "id": "9b68828e",
   "metadata": {},
   "source": [
    "Standard Python conventions\n",
    "---------------------------\n",
    "\n",
    "We try, when possible, to match the guidelines presented in these documents:\n",
    "- [Style Guide for Python Code (PEP8)](https://pep8.org);\n",
    "- [Numpy Docstring](https://numpydoc.readthedocs.io/en/latest/format.html).\n",
    "\n",
    "Those are precious references and all other sections are additions to these references. Integrated desktop environments may help programmers to follow these conventions. For example, in Spyder, one could enable:\n",
    "\n",
    "- `Preferences : Completion in linting : Code style and formatting` to enable PEP8 linting;\n",
    "- `Preferences : Completion in linting : Docstring style` to enable docstring linting. "
   ]
  },
  {
   "cell_type": "markdown",
   "id": "223db1d1",
   "metadata": {},
   "source": [
    "Function life sequence\n",
    "----------------------\n",
    "\n",
    "New public functions appear and live in the following order:\n",
    "\n",
    "### 1. Unstable\n",
    "\n",
    "These functions are currently being developed. They are considered public in the development API, and private in the stable API. They are decorated by the `@unstable` decorator, which automates the documentation of their unstable status both in their doctring and in the API documentation. They are included in the development website's API, but not in the stable API.\n",
    "\n",
    "### 2. Experimental\n",
    "\n",
    "These objects are part of the API but are not considered stable yet. They are documented accordingly in their docstring, with the following text just before the parameters section (with correct version numbers):\n",
    "\n",
    "    Warning\n",
    "    -------\n",
    "    This function, which has been introduced in 0.4, is still experimental and\n",
    "    may change signature or behaviour in the future.\n",
    "\n",
    "They don't have a decorator.\n",
    "\n",
    "### 3. Stable\n",
    "\n",
    "Standard production function, without specific decorator or warning.\n",
    "\n",
    "\n",
    "### 4. Deprecated\n",
    "\n",
    "Standard function, but decorated with the `@deprecated` decorator:"
   ]
  },
  {
   "cell_type": "code",
   "execution_count": null,
   "id": "1008e8c5",
   "metadata": {},
   "outputs": [],
   "source": [
    "from kineticstoolkit.decorators import deprecated\n",
    "\n",
    "@deprecated(since='0.1', until='0.2',\n",
    "            details='It has been replaced by `better_function` because '\n",
    "                    'the latter is much better.')\n",
    "def function_name(arguments):\n",
    "    \"\"\"Perform an operation.\"\"\"\n",
    "    pass  # Function contents"
   ]
  },
  {
   "cell_type": "code",
   "execution_count": null,
   "id": "46d2a1eb",
   "metadata": {},
   "outputs": [],
   "source": []
  }
 ],
 "metadata": {
  "kernelspec": {
   "display_name": "Python 3",
   "language": "python",
   "name": "python3"
  },
  "language_info": {
   "codemirror_mode": {
    "name": "ipython",
    "version": 3
   },
   "file_extension": ".py",
   "mimetype": "text/x-python",
   "name": "python",
   "nbconvert_exporter": "python",
   "pygments_lexer": "ipython3",
   "version": "3.8.10"
  }
 },
 "nbformat": 4,
 "nbformat_minor": 5
}
